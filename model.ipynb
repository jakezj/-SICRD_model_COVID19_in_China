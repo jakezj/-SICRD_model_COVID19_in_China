{
 "cells": [
  {
   "cell_type": "code",
   "execution_count": 1,
   "metadata": {
    "ExecuteTime": {
     "end_time": "2020-03-17T00:25:12.872586Z",
     "start_time": "2020-03-17T00:25:11.901188Z"
    }
   },
   "outputs": [],
   "source": [
    "import csv\n",
    "import linecache\n",
    "import datetime\n",
    "import sys\n",
    "import numpy as np\n",
    "import random\n",
    "from scipy.sparse import *\n",
    "from scipy import *\n",
    "import scipy as sp\n",
    "import matplotlib.pyplot as plt\n",
    "import os.path\n",
    "import matplotlib\n",
    "import copy\n",
    "import pandas as pd\n",
    "from scipy import stats\n",
    "from tempfile import TemporaryFile\n",
    "import pickle\n",
    "from scipy.integrate import odeint\n",
    "from torchdiffeq import odeint as dodeint\n",
    "import torch\n",
    "import torch.nn as nn\n",
    "import torch.optim as optim\n",
    "from torch.nn.parameter import Parameter\n",
    "from scipy.stats import skew\n",
    "\n",
    "def flushPrint(variable):\n",
    "    sys.stdout.write('\\r')\n",
    "    sys.stdout.write('%s' % variable)\n",
    "    sys.stdout.flush() "
   ]
  },
  {
   "cell_type": "markdown",
   "metadata": {},
   "source": [
    "# Import data\n",
    "\n",
    "## City data"
   ]
  },
  {
   "cell_type": "code",
   "execution_count": 2,
   "metadata": {
    "ExecuteTime": {
     "end_time": "2020-03-17T00:25:13.926658Z",
     "start_time": "2020-03-17T00:25:13.721193Z"
    }
   },
   "outputs": [],
   "source": [
    "df1=pd.read_csv('./data/county_city_province.csv')\n",
    "cities1 = set((df1['CITY']))\n",
    "df2=pd.read_csv('./data/citypopulation.csv')\n",
    "cities2 =set((df2['city']))\n",
    "cities = set(list(cities1) + list(cities2))\n",
    "nodes = {}\n",
    "city_properties = {}\n",
    "id_city = {}\n",
    "for ct in cities:\n",
    "    nodes[ct] = len(nodes)\n",
    "    city_properties[ct] = {'pop':1,'prov':'','id':-1}\n",
    "for i in df2.iterrows():\n",
    "    city_properties[i[1][0]] = {'pop':float(i[1][1])}\n",
    "for i in df1.iterrows():\n",
    "    dc = city_properties.get(i[1]['CITY'],{})\n",
    "    dc['prov'] = i[1]['PROV']\n",
    "    dc['id'] = i[1]['CITY_ID']\n",
    "    city_properties[i[1]['CITY']]=dc\n",
    "    id_city[dc['id']] = i[1]['CITY']"
   ]
  },
  {
   "cell_type": "markdown",
   "metadata": {},
   "source": [
    "## Baidu migration flux ratio data (2016, 2020)"
   ]
  },
  {
   "cell_type": "code",
   "execution_count": 3,
   "metadata": {
    "ExecuteTime": {
     "end_time": "2020-03-17T00:25:19.660571Z",
     "start_time": "2020-03-17T00:25:15.027686Z"
    }
   },
   "outputs": [
    {
     "name": "stdout",
     "output_type": "stream",
     "text": [
      "0.995342957403680654"
     ]
    }
   ],
   "source": [
    "df=pd.read_csv('./data/city_flow_v1.csv')\n",
    "flows = {}\n",
    "for n,i in enumerate(df.iterrows()):\n",
    "    if n % 1000 == 0:\n",
    "        flushPrint(n/len(df))\n",
    "    cityi=long(i[1]['cityi.id'])\n",
    "    cityj=long(i[1]['cityj.id'])\n",
    "    value = flows.get((cityi,cityj),0)\n",
    "    flows[(cityi,cityj)] = value + i[1]['flowij']\n",
    "    if cityi==341301:\n",
    "        print(flows[(cityi,cityj)])\n",
    "    \n",
    "#save to flux matrix\n",
    "matrix = np.zeros([len(nodes), len(nodes)])\n",
    "self_flux = np.zeros(len(nodes))\n",
    "pij1 = np.zeros([len(nodes), len(nodes)])\n",
    "for key,value in flows.items():\n",
    "    id1 = nodes.get(id_city[key[0]],-1)\n",
    "    id2 = nodes.get(id_city[key[1]],-1)\n",
    "    matrix[id1, id2] = value\n",
    "for i in range(matrix.shape[0]):\n",
    "    self_flux[i] = matrix[i, i]\n",
    "    matrix[i, i] = 0\n",
    "    if np.sum(matrix[i,:])>0:\n",
    "        pij1[i,:]=matrix[i,:]/np.sum(matrix[i,:])\n"
   ]
  },
  {
   "cell_type": "code",
   "execution_count": 4,
   "metadata": {
    "ExecuteTime": {
     "end_time": "2020-03-17T00:25:26.858006Z",
     "start_time": "2020-03-17T00:25:26.107333Z"
    }
   },
   "outputs": [
    {
     "data": {
      "text/plain": [
       "array([1., 1., 1., 1., 1., 1., 1., 1., 1., 1., 1., 1., 1., 1., 1., 1., 1.,\n",
       "       1., 1., 1., 1., 1., 1., 1., 1., 1., 1., 1., 1., 1., 1., 1., 1., 1.,\n",
       "       1., 1., 1., 1., 1., 1., 1., 1., 1., 1., 1., 1., 1., 1., 1., 1., 1.,\n",
       "       1., 1., 1., 1., 1., 1., 1., 1., 1., 1., 1., 1., 1., 1., 1., 1., 1.,\n",
       "       1., 1., 1., 1., 1., 1., 1., 1., 1., 1., 1., 1., 1., 1., 1., 1., 1.,\n",
       "       1., 1., 1., 1., 1., 1., 1., 1., 1., 1., 1., 1., 1., 1., 1., 1., 1.,\n",
       "       1., 1., 1., 1., 1., 1., 1., 1., 1., 1., 1., 1., 1., 1., 1., 1., 1.,\n",
       "       1., 1., 1., 1., 1., 1., 1., 1., 1., 1., 1., 1., 1., 1., 1., 1., 1.,\n",
       "       1., 1., 1., 1., 1., 1., 1., 1., 1., 1., 1., 1., 1., 1., 1., 1., 1.,\n",
       "       1., 1., 1., 1., 1., 1., 1., 1., 1., 1., 1., 1., 1., 1., 1., 1., 1.,\n",
       "       1., 1., 1., 1., 1., 1., 1., 1., 1., 1., 1., 1., 1., 1., 1., 1., 1.,\n",
       "       1., 1., 1., 1., 1., 1., 1., 1., 1., 1., 1., 1., 1., 1., 1., 1., 1.,\n",
       "       1., 1., 1., 1., 1., 1., 1., 1., 1., 1., 1., 1., 1., 1., 1., 1., 1.,\n",
       "       1., 1., 1., 1., 1., 1., 1., 1., 1., 1., 1., 1., 1., 1., 1., 1., 1.,\n",
       "       1., 1., 1., 1., 1., 1., 1., 1., 1., 1., 1., 1., 1., 1., 1., 1., 1.,\n",
       "       1., 1., 1., 1., 1., 1., 1., 1., 1., 1., 1., 1., 1., 1., 1., 1., 1.,\n",
       "       1., 1., 1., 1., 1., 1., 1., 1., 1., 1., 1., 1., 1., 1., 1., 1., 1.,\n",
       "       1., 1., 1., 1., 1., 1., 1., 1., 1., 1., 1., 1., 1., 1., 1., 1., 1.,\n",
       "       1., 1., 1., 1., 1., 1., 1., 1., 1., 1., 1., 1., 1., 1., 1., 1., 1.,\n",
       "       1., 1., 1., 1., 1., 1., 1., 1., 1., 1., 1., 1., 1., 1., 1., 1., 1.,\n",
       "       1., 1., 1., 1., 1., 1., 1., 1., 1., 1., 1., 1., 1., 1., 1., 1., 1.,\n",
       "       1., 1., 1., 1., 1., 1., 1., 1., 1., 1., 1., 1., 1., 1.])"
      ]
     },
     "execution_count": 4,
     "metadata": {},
     "output_type": "execute_result"
    }
   ],
   "source": [
    "df=pd.read_csv('./data/Pij_BAIDU.csv',encoding='gbk')\n",
    "df.head(4)\n",
    "\n",
    "cities = {d:i for i,d in enumerate(df['Cities'])}\n",
    "pij2 = np.zeros([len(nodes), len(nodes)])\n",
    "for k,ind in cities.items():\n",
    "    row = df[k]\n",
    "    for city,column in cities.items():\n",
    "        i_indx = nodes.get(city, -1)\n",
    "        if i_indx < 0:\n",
    "            print(city)\n",
    "        j_indx = nodes.get(k, -1)\n",
    "        if j_indx < 0:\n",
    "            print(k)\n",
    "        if i_indx >=0 and j_indx >= 0:\n",
    "            pij2[j_indx, i_indx] = row[column] / 100\n",
    "            if i_indx == j_indx:\n",
    "                pij2[i_indx, j_indx] = 0\n",
    "#pij = pij2\n",
    "\n",
    "bools = pij2 <= 0\n",
    "pij = np.zeros([pij1.shape[0], pij1.shape[0]])\n",
    "for i in range(pij1.shape[0]):\n",
    "    row = pij1[i]\n",
    "    bool1 = bools[i]\n",
    "    values = row * bool1\n",
    "    if np.sum(values) > 0:\n",
    "        ratios = values / np.sum(values)\n",
    "        sum2 = np.sum(pij2[i, :])\n",
    "        pij[i,:] = (1 - sum2) * ratios + pij2[i, :]\n",
    "zeros = np.argwhere(np.sum(pij, axis=1) == 0).reshape(-1)\n",
    "for idx in zeros:\n",
    "    pij[idx][idx] = 1\n",
    "\n",
    "np.sum(pij,1) #Testing normalization\n"
   ]
  },
  {
   "cell_type": "markdown",
   "metadata": {},
   "source": [
    "## Cases data"
   ]
  },
  {
   "cell_type": "code",
   "execution_count": 5,
   "metadata": {
    "ExecuteTime": {
     "end_time": "2020-03-17T00:25:31.591650Z",
     "start_time": "2020-03-17T00:25:30.494472Z"
    }
   },
   "outputs": [
    {
     "data": {
      "image/png": "[encoded data removed]",
      "text/plain": [
       "<Figure size 432x288 with 1 Axes>"
      ]
     },
     "metadata": {
      "needs_background": "light"
     },
     "output_type": "display_data"
    }
   ],
   "source": [
    "df = pd.read_csv('./data/R_cases_cum.csv',encoding='gbk')\n",
    "df\n",
    "\n",
    "all_cases_cities = list(set(df['city_name']))[1:]\n",
    "\n",
    "wuhan=df.loc[df['city_name']=='武汉市',['confirm','time','heal','dead']]\n",
    "dates = list(wuhan['time'])\n",
    "sorted_dates = np.sort(dates)\n",
    "first_date = datetime.datetime(2020, 1, 1, 0, 0)\n",
    "first_cases = int(wuhan.loc[wuhan['time']=='2020-01-01']['confirm'])\n",
    "\n",
    "\n",
    "all_cases = {}\n",
    "\n",
    "for city in all_cases_cities:\n",
    "    subset = df.loc[df['city_name']==city,['confirm','time','heal','dead']]\n",
    "    zhixia = False\n",
    "    \n",
    "    new_cases = np.array(subset['confirm'])\n",
    "    cued_cases = np.array(subset['heal'])\n",
    "    die_cases = np.array(subset['dead'])\n",
    "    dates = list(subset['time'])\n",
    "    days = []\n",
    "    for i,dd in enumerate(dates):\n",
    "        if pd.isnull(dd):\n",
    "            dd = dates1[i]\n",
    "        if not pd.isnull(dd):\n",
    "            days.append((datetime.datetime.strptime(dd,'%Y-%m-%d') - first_date).days)\n",
    "    sorted_days = np.sort(days)\n",
    "    indx = np.argsort(days)\n",
    "    infected = new_cases[indx]\n",
    "    cued = cued_cases[indx]\n",
    "    death = die_cases[indx]\n",
    "    bools =sorted_days>=0\n",
    "    if len(sorted_days)>0:\n",
    "        all_cases[city] = (sorted_days[bools], infected[bools], cued[bools], death[bools])\n",
    "\n",
    "\n",
    "for case in all_cases.values():\n",
    "    xx = case[0]\n",
    "    yy = case[1]\n",
    "    if len(yy) > 0:\n",
    "        plt.plot(xx,yy,'o-')\n",
    "#plt.semilogy()\n",
    "plt.show()\n"
   ]
  },
  {
   "cell_type": "markdown",
   "metadata": {},
   "source": [
    "# SICRD Model"
   ]
  },
  {
   "cell_type": "markdown",
   "metadata": {},
   "source": [
    "The model can be described by:\n",
    "\n",
    "$\\partial i_n/\\partial t = \\frac{R_0}{T_L}i_n s_n - \\frac{1}{T_L}i_n + \\gamma \\sum_{m\\neq n}p_{nm}(i_m-i_n)$\n",
    "\n",
    "\n",
    "$\\partial c_n/\\partial t = \\frac{\\alpha}{T_L} c_n - \\frac{1}{T_I} c_n$\n",
    "\n",
    "\n",
    "\n",
    "$\\partial s_n/\\partial t = -\\frac{R_0}{T_L} i_n s_n + \\gamma \\sum_{m\\neq n}p_{nm}(s_m-s_n)$\n",
    "\n",
    "\n",
    "$r_n = 1 - s_n - j_n - l_n$\n",
    "\n",
    "where $i_n$ is infection ratio of city n; \n",
    "$s_n$ is the susceptible ratio of city n; \n",
    "$c_n$ is the confirmed ratio of city n; \n",
    "$R_0$ is the basic reproductive number；\n",
    "$T_I$ is the average time from confirmed to cure / death; \n",
    "$T_L$ is the average time from infected to confirm; \n",
    "$\\gamma$ is the average ratio of migration population to the total population；\n",
    "$p_{nm}$ is the migration ratio from city n to city m.\n",
    "\n",
    "In our simulation, we use matrix and inner product to compute $\\sum_{m\\neq n}p_{nm}(x_m-x_n)$, also with some simplification, i.e., $\\sum_{m\\neq n}p_{nm}(x_m-x_n)=\\sum_m p_{nm}x_m-x_n$ be $P\\cdot \\vec{x} - \\vec{x}$, where $x$ is $l,j,s$, $\\vec{x}=(x_1,x_2,...,x_N)$"
   ]
  },
  {
   "cell_type": "code",
   "execution_count": 54,
   "metadata": {
    "ExecuteTime": {
     "end_time": "2020-03-17T01:39:23.131493Z",
     "start_time": "2020-03-17T01:39:23.109412Z"
    }
   },
   "outputs": [],
   "source": [
    "\n",
    "def protect_decay(t, t0, eta, rate_time, relax):\n",
    "    epsilon = 0.001\n",
    "    r = 2 * np.log((1-epsilon)/epsilon) / rate_time\n",
    "    x0 = t0 + rate_time/2\n",
    "    decay = eta / (1 + np.exp(r * (t - x0))) + 1 - eta\n",
    "    if relax>0:\n",
    "        #tstar = x0 + np.log((1-relax*epsilon)/(relax*epsilon+eta-1))\n",
    "        tstar = relax\n",
    "        decay1 = eta/(1 + np.exp(r*(2*tstar - t - x0))) + 1 - eta\n",
    "        decay = decay + decay1\n",
    "    return decay\n",
    "def diff(sicol, t, r_0, t_r, t_l, alpha, gamma, eta, rate_time, protect_day, pijt, intervention, relax=0):\n",
    "    sz = sicol.shape[0] // 3\n",
    "    Is = sicol[:sz] # infected\n",
    "    Cs = sicol[sz:2*sz] # confirmed\n",
    "    ss = sicol[2*sz:] # susceptible\n",
    "    I_term = pijt.dot(Is) - Is\n",
    "    C_term = pijt.dot(Cs) - Cs\n",
    "    S_term = pijt.dot(ss) - ss\n",
    "    cross_term = r_0  * Is * ss / t_l\n",
    "    if intervention:\n",
    "        cross_term = cross_term * protect_decay(t, protect_day, eta, rate_time, relax)\n",
    "        \n",
    "    delta_I = cross_term - Is / t_l + gamma * I_term\n",
    "    delta_C = alpha * Is / t_l - Cs / t_r #+ gamma * C_term\n",
    "    delta_S = - cross_term + gamma * S_term\n",
    "    output = np.r_[delta_I, delta_C, delta_S]\n",
    "    return output\n",
    "# Plot function\n",
    "def plots(prediction,cities,plot_time_span,colors,colors_s):\n",
    "    plt.figure(figsize=(15,10))\n",
    "\n",
    "    for n,(k,i) in enumerate(nodes.items()):\n",
    "        cityname = k\n",
    "        ploty = prediction[:plot_time_span, i + len(nodes)]\n",
    "        plt.semilogy(timespan[:plot_time_span], ploty * city_properties[k]['pop']\n",
    "                     ,'-',alpha=0.1,color=colors[n])\n",
    "        cityname1 = cityname\n",
    "        if cityname[-1]=='市':\n",
    "            cityname1 = cityname[:-1]\n",
    "        itm = all_cases.get(cityname1,[])\n",
    "        if len(itm)==0:\n",
    "            itm = all_cases.get(cityname,[])\n",
    "        if len(itm)>0:\n",
    "            real = itm[1]-itm[2]-itm[3]\n",
    "            #print(real)\n",
    "            #plt.semilogy(itm[0], real, '.',color=colors[n],alpha=0.1)\n",
    "            if k in cities:\n",
    "                #print(itm[0])\n",
    "                #print(real)\n",
    "                c = cities.index(k)\n",
    "                ploty =  prediction[:plot_time_span, i + len(nodes)]\n",
    "                \n",
    "                plt.semilogy(timespan[:plot_time_span], ploty * city_properties[k]['pop']\n",
    "                             ,'-',color=colors_s[c])\n",
    "                plt.semilogy(itm[0], real, 'o',color=colors_s[c])\n",
    "    plt.show()\n",
    "    \n",
    "# Using NeuralODE to fit data\n",
    "# In no-intervention scenario, three parameters can be optimized\n",
    "# In intervention scenarios, t_m can aIso be optimized\n",
    "\n",
    "class my_parameters(nn.Module):\n",
    "    \n",
    "    def __init__(self, batch_size, pij, t_l, t_r, gamma, t_0=22, t_m=30, eta=1, intervention=False):    \n",
    "        super(my_parameters, self).__init__()\n",
    "        self.batch_size = 1\n",
    "        self.pij = pij\n",
    "        self.t_l = t_l\n",
    "        self.t_r = t_r\n",
    "        self.gamma = gamma\n",
    "        self.t0 = t_0\n",
    "        self.tm = t_m\n",
    "        self.eta = eta\n",
    "        self.intervention = intervention\n",
    "        self.batch_size = batch_size\n",
    "        self.pps = Parameter(torch.rand([batch_size, 4]))\n",
    "        self.pps.data[:, 1] *= 500\n",
    "        self.pps.data[:, 3] *= 100\n",
    "    def form_parameter(self):\n",
    "        r0 = 4 * torch.sigmoid(self.pps) * torch.Tensor([[1,0,0,0]]).repeat(batch_size, 1)\n",
    "        l0 = torch.relu(self.pps) * torch.Tensor([[0,1,0,0]]).repeat(batch_size, 1)\n",
    "        alpha = torch.sigmoid(self.pps) * torch.Tensor([[0,0,1,0]]).repeat(batch_size, 1)\n",
    "        tm = torch.relu(self.pps) * torch.Tensor([[0,0,0,1]]).repeat(batch_size, 1)\n",
    "        self.parameters = r0 + l0 + alpha + tm\n",
    "        return r0+l0+alpha+tm\n",
    "    def protect_decay(self, t, t0, eta, rate_time):\n",
    "        epsilon = 0.001\n",
    "        r = 2 * np.log((1-epsilon)/epsilon) / rate_time\n",
    "        x0 = t0 + rate_time/2\n",
    "        decay = eta / (1 + torch.exp(r * (t.unsqueeze(0).repeat(self.batch_size,1) - x0))) + 1 - eta\n",
    "        return decay\n",
    "    def forward(self, t, y):\n",
    "        sz = y.size()[1] // 3\n",
    "        Is = y[:,:sz]\n",
    "        Cs = y[:,sz:2*sz]\n",
    "        ss = y[:,2*sz:]\n",
    "        I_term = Is @ self.pij.t() - Is\n",
    "        C_term = Cs @ self.pij.t() - Cs\n",
    "        S_term = ss @ self.pij.t() - ss\n",
    "        parameter = self.parameters.unsqueeze(1).repeat(1,sz,1)\n",
    "        cross_term = parameter[:, :, 0] * Is * ss / self.t_l\n",
    "        if self.intervention:\n",
    "            cross_term *= self.protect_decay(t, self.t0, self.eta, parameter[:, :, 3])\n",
    "        delta_I = cross_term - Is / self.t_l + self.gamma * I_term\n",
    "        delta_C = parameter[:, :, 2] * Is /self.t_l - Cs / self.t_r #+ self.gamma * C_term\n",
    "        delta_S = - cross_term + self.gamma * S_term\n",
    "        output = torch.cat((delta_I, delta_C, delta_S),1)\n",
    "        return output"
   ]
  },
  {
   "cell_type": "code",
   "execution_count": 7,
   "metadata": {
    "ExecuteTime": {
     "end_time": "2020-03-17T00:25:35.554486Z",
     "start_time": "2020-03-17T00:25:35.460780Z"
    },
    "scrolled": true
   },
   "outputs": [
    {
     "data": {
      "text/plain": [
       "torch.Size([1000, 371])"
      ]
     },
     "execution_count": 7,
     "metadata": {},
     "output_type": "execute_result"
    }
   ],
   "source": [
    "# Initialize training data\n",
    "timespan = np.linspace(0, 200, 1000)\n",
    "interval = 1000 / 200\n",
    "infected = torch.zeros([len(timespan), len(nodes)])\n",
    "recovered = torch.zeros([len(timespan), len(nodes)])\n",
    "mask = torch.zeros([len(timespan), len(nodes)])\n",
    "for city,itm in all_cases.items():\n",
    "    city1 = city\n",
    "    try:\n",
    "        if city[-1] != '市':\n",
    "            city1 = city + 'abs市'\n",
    "        idx = nodes.get(city1, -1)\n",
    "        if idx > 0:\n",
    "            infected[(itm[0]*interval).astype(int), idx] = torch.Tensor(\n",
    "                itm[1] - itm[2] - itm[3])\n",
    "            bools = infected[:, idx] >0\n",
    "            mask[bools, idx] = 1\n",
    "            infected[(itm[0]*interval).astype(int), idx] = infected[(itm[0]*interval).astype(int), idx] / city_properties[city]['pop']\n",
    "            recovered[(itm[0]*interval).astype(int),idx] = torch.Tensor((itm[2] + itm[3]\n",
    "                                                      ) / city_properties[city]['pop'])\n",
    "    except:\n",
    "        continue\n",
    "targets = infected\n",
    "targets.size()\n"
   ]
  },
  {
   "cell_type": "markdown",
   "metadata": {},
   "source": [
    "## Search parameters\n",
    "\n",
    "See `./train.py`."
   ]
  },
  {
   "cell_type": "markdown",
   "metadata": {},
   "source": [
    "## Import parameters"
   ]
  },
  {
   "cell_type": "code",
   "execution_count": 8,
   "metadata": {
    "ExecuteTime": {
     "end_time": "2020-03-17T00:25:40.860953Z",
     "start_time": "2020-03-17T00:25:40.848644Z"
    }
   },
   "outputs": [],
   "source": [
    "experiments = pd.read_pickle('./parameters/experiments_ti_tr_120_new.pkl')\n",
    "experiments = experiments + pd.read_pickle('./parameters/experiments_ti_tr_120_new_2.pkl')\n",
    "experiments = experiments + pd.read_pickle('./parameters/experiments_ti_tr_120_new_3.pkl')\n",
    "#experiments = experiments + pd.read_pickle('./parameters/experiments_ti_tr_120_new_4.pkl')"
   ]
  },
  {
   "cell_type": "code",
   "execution_count": 9,
   "metadata": {
    "ExecuteTime": {
     "end_time": "2020-03-17T00:25:42.621686Z",
     "start_time": "2020-03-17T00:25:42.617308Z"
    }
   },
   "outputs": [
    {
     "data": {
      "text/plain": [
       "360"
      ]
     },
     "execution_count": 9,
     "metadata": {},
     "output_type": "execute_result"
    }
   ],
   "source": [
    "len(experiments)"
   ]
  },
  {
   "cell_type": "markdown",
   "metadata": {},
   "source": [
    "### Export the parameters to CSV file"
   ]
  },
  {
   "cell_type": "code",
   "execution_count": 34,
   "metadata": {
    "ExecuteTime": {
     "end_time": "2020-03-16T00:47:48.132287Z",
     "start_time": "2020-03-16T00:47:48.123964Z"
    }
   },
   "outputs": [],
   "source": [
    "r0s=[]\n",
    "l0s=[]\n",
    "alphas=[]\n",
    "t_is=[]\n",
    "t_ls=[]\n",
    "gammas=[]\n",
    "losses=[]\n",
    "for best_para in experiments:\n",
    "    #展示找出来的最优的10个解\n",
    "    fit_param = sorted([(vvv[1],i) for i,vvv in enumerate(best_para)])\n",
    "    itm = best_para[fit_param[0][1]]\n",
    "    #print('r0: {:2.2f}'.format(itm[0][0][0].item()), 'l0:{:2.2f}'.format(itm[0][0][1].item()), \n",
    "    #      'alpha:{:2.2f}'.format(itm[0][0][2].item()), 't_i:{:2.2f}'.format(itm[2][0]),\n",
    "    #      't_r:{:2.2f}'.format(itm[2][1]), 'gamma:{:2.5f}'.format(itm[2][2]))\n",
    "    r0s.append(itm[0][0][0].item())\n",
    "    l0s.append(itm[0][0][1].item())\n",
    "    alphas.append(itm[0][0][2].item())\n",
    "    t_is.append(itm[2][0])\n",
    "    t_ls.append(itm[2][1])\n",
    "    gammas.append(itm[2][2])\n",
    "    losses.append(fit_param[0][0])"
   ]
  },
  {
   "cell_type": "code",
   "execution_count": 38,
   "metadata": {
    "ExecuteTime": {
     "end_time": "2020-03-16T00:48:17.208780Z",
     "start_time": "2020-03-16T00:48:17.199808Z"
    }
   },
   "outputs": [],
   "source": [
    "r0s=[]\n",
    "l0s=[]\n",
    "alphas=[]\n",
    "losses=[]\n",
    "exporteddata = []\n",
    "for best_para in experiments:\n",
    "    #展示找出来的最优的120个解\n",
    "    fit_param = sorted([(vvv[1],i) for i,vvv in enumerate(best_para)])\n",
    "    itm = best_para[fit_param[0][1]]\n",
    "    exporteddata.append([itm[0][0][0].item(), itm[0][0][1].item(), \n",
    "          itm[0][0][2].item(), itm[2][0], itm[2][1], itm[2][2]])\n",
    "    #print(itm[0][0][0].item(), itm[0][0][1].item(), \n",
    "    #      itm[0][0][2].item())\n",
    "    r0s.append(itm[0][0][0].item())\n",
    "    l0s.append(itm[0][0][1].item())\n",
    "    alphas.append(itm[0][0][2].item())\n",
    "    losses.append(fit_param[0][0])"
   ]
  },
  {
   "cell_type": "code",
   "execution_count": 236,
   "metadata": {
    "ExecuteTime": {
     "end_time": "2020-03-15T03:54:22.352790Z",
     "start_time": "2020-03-15T03:54:22.346860Z"
    }
   },
   "outputs": [],
   "source": [
    "import csv\n",
    "\n",
    "with open('./parameters/experiments_csv.csv', 'w') as csvfile:\n",
    "    writer = csv.writer(csvfile)\n",
    "    writer.writerows(exporteddata)"
   ]
  },
  {
   "cell_type": "code",
   "execution_count": 51,
   "metadata": {
    "ExecuteTime": {
     "end_time": "2020-03-16T00:50:00.704762Z",
     "start_time": "2020-03-16T00:50:00.697006Z"
    }
   },
   "outputs": [
    {
     "name": "stdout",
     "output_type": "stream",
     "text": [
      "R0: [2.22, 2.21] (2.15-2.19-2.24-2.35)\n",
      "L0: [404, 411] (276-354-465-497)\n",
      "alpha: [0.91, 0.93] (0.7-0.87-0.96-0.99)\n"
     ]
    }
   ],
   "source": [
    "Report(np.array(exporteddata).T[0], 'R0: ', 2)\n",
    "ReportInt(np.array(exporteddata).T[1], 'L0: ')\n",
    "Report(np.array(exporteddata).T[2], 'alpha: ', 2)"
   ]
  },
  {
   "cell_type": "markdown",
   "metadata": {},
   "source": [
    "# Simulation and prediction"
   ]
  },
  {
   "cell_type": "markdown",
   "metadata": {},
   "source": [
    "## Report function"
   ]
  },
  {
   "cell_type": "code",
   "execution_count": 10,
   "metadata": {
    "ExecuteTime": {
     "end_time": "2020-03-17T00:25:45.917021Z",
     "start_time": "2020-03-17T00:25:45.909180Z"
    }
   },
   "outputs": [],
   "source": [
    "# Mean, Median, IQR, and 95% CI\n",
    "def ReportInt(sample, head):\n",
    "    median = int(round(np.median(sample)))\n",
    "    mean = int(round(np.mean(sample)))\n",
    "    low = int(round(np.quantile(sample, 0.025)))\n",
    "    Q1 = int(round(np.quantile(sample, 1/4)))\n",
    "    Q2 = int(round(np.quantile(sample, 3/4)))\n",
    "    high = int(round(np.quantile(sample, 1-0.025)))\n",
    "    \n",
    "    print(head+f'[{mean}, {median}] ({low}-{Q1}-{Q2}-{high})')\n",
    "\n",
    "def Report(sample, head, p):\n",
    "    median = round(np.median(sample), p)\n",
    "    mean = round(np.mean(sample), p)\n",
    "    low = round(np.quantile(sample, 0.025), p)\n",
    "    Q1 = round(np.quantile(sample, 1/4), p)\n",
    "    Q2 = round(np.quantile(sample, 3/4), p)\n",
    "    high = round(np.quantile(sample, 1-0.025), p)\n",
    "    \n",
    "    print(head+f'[{mean}, {median}] ({low}-{Q1}-{Q2}-{high})')\n",
    "    \n",
    "def ReportData(sample, p=2):\n",
    "    mean = round(np.mean(sample), p)\n",
    "    std = np.std(sample)\n",
    "    low = round(np.mean(sample)-1.96*std, p)\n",
    "    high = round(np.mean(sample)+1.96*std, p)\n",
    "    \n",
    "    return [mean, low, high]"
   ]
  },
  {
   "cell_type": "markdown",
   "metadata": {},
   "source": [
    "### Including the total infection population"
   ]
  },
  {
   "cell_type": "code",
   "execution_count": 11,
   "metadata": {
    "ExecuteTime": {
     "end_time": "2020-03-17T00:25:47.977788Z",
     "start_time": "2020-03-17T00:25:47.960550Z"
    }
   },
   "outputs": [],
   "source": [
    "# 不用可微分求解\n",
    "def protect_decay(t, t0, eta, rate_time, relax):\n",
    "    epsilon = 0.001\n",
    "    r = 2 * np.log((1-epsilon)/epsilon) / rate_time\n",
    "    x0 = t0 + rate_time/2\n",
    "    decay = eta / (1 + np.exp(r * (t - x0))) + 1 - eta\n",
    "    if relax>0:\n",
    "        #tstar = x0 + np.log((1-relax*epsilon)/(relax*epsilon+eta-1))\n",
    "        tstar = relax\n",
    "        decay1 = eta/(1 + np.exp(r*(2*tstar - t - x0))) + 1 - eta\n",
    "        decay = decay + decay1\n",
    "    return decay\n",
    "def diff(sicol, t, r_0, t_i, t_l, alpha, gamma, eta, rate_time, protect_day, pijt, intervention, relax=0):\n",
    "    #sicol: 感染，确诊，易感\n",
    "    sz = sicol.shape[0] // 4\n",
    "    Is = sicol[:sz] # 感染\n",
    "    Cs = sicol[sz:2*sz] #确诊\n",
    "    Ss = sicol[2*sz:3*sz] #易感\n",
    "    lterm = pijt.dot(Is) - Is\n",
    "    jterm = pijt.dot(Cs) - Cs\n",
    "    sterm = pijt.dot(Ss) - Ss\n",
    "    cross_term = r_0  * Is * Ss / t_l\n",
    "    if intervention:\n",
    "        cross_term = cross_term * protect_decay(t, protect_day, eta, rate_time, relax)\n",
    "        \n",
    "    delta_l = cross_term - Is / t_l + gamma * lterm\n",
    "    delta_j = alpha * Is / t_l - Cs / t_i #+ gamma * jterm\n",
    "    delta_s = - cross_term + gamma * sterm\n",
    "    \n",
    "    cum_inf_conf = cross_term #infected\n",
    "    #cum_inf_conf = alpha * Is / t_l # confirmed\n",
    "    \n",
    "    output = np.r_[delta_l, delta_j, delta_s, cum_inf_conf]\n",
    "    return output\n",
    "# 特定绘图函数\n",
    "def plots(prediction,cities,plot_time_span,colors,colors_s):\n",
    "    plt.figure(figsize=(15,10))\n",
    "\n",
    "    for n,(k,i) in enumerate(nodes.items()):\n",
    "        cityname = k\n",
    "        ploty = prediction[:plot_time_span, i + len(nodes)]\n",
    "        plt.semilogy(timespan[:plot_time_span], ploty * city_properties[k]['pop']\n",
    "                     ,'-',alpha=0.1,color=colors[n])\n",
    "        cityname1 = cityname\n",
    "        if cityname[-1]=='市':\n",
    "            cityname1 = cityname[:-1]\n",
    "        itm = all_cases.get(cityname1,[])\n",
    "        if len(itm)==0:\n",
    "            itm = all_cases.get(cityname,[])\n",
    "        if len(itm)>0:\n",
    "            real = itm[1]-itm[2]-itm[3]\n",
    "            #print(real)\n",
    "            #plt.semilogy(itm[0], real, '.',color=colors[n],alpha=0.1)\n",
    "            if k in cities:\n",
    "                #print(itm[0])\n",
    "                #print(real)\n",
    "                c = cities.index(k)\n",
    "                ploty =  prediction[:plot_time_span, i + len(nodes)]\n",
    "                \n",
    "                plt.semilogy(timespan[:plot_time_span], ploty * city_properties[k]['pop']\n",
    "                             ,'-',color=colors_s[c])\n",
    "                plt.semilogy(itm[0], real, 'o',color=colors_s[c])\n",
    "    plt.show()\n",
    "    \n",
    "#可微分求微分方程，优化参数\n",
    "#在无intervention时，优化参数有三个，如果考虑intervention，则t_m也可以被优化\n",
    "\n",
    "class my_parameters(nn.Module):\n",
    "    \n",
    "    def __init__(self, batch_size, pij, t_l, t_i, gamma, t_0=22, t_m=30, eta=1, intervention=False):    \n",
    "        super(my_parameters, self).__init__()\n",
    "        self.batch_size = 1\n",
    "        self.pij = pij\n",
    "        self.t_l = t_l\n",
    "        self.t_i = t_i\n",
    "        self.gamma = gamma\n",
    "        self.t0 = t_0\n",
    "        self.tm = t_m\n",
    "        self.eta = eta\n",
    "        self.intervention = intervention\n",
    "        self.batch_size = batch_size\n",
    "        self.pps = Parameter(torch.rand([batch_size, 4]))\n",
    "        self.pps.data[:, 1] *= 500\n",
    "        self.pps.data[:, 3] *= 100\n",
    "    def form_parameter(self):\n",
    "        r0 = 4 * torch.sigmoid(self.pps) * torch.Tensor([[1,0,0,0]]).repeat(batch_size, 1)\n",
    "        l0 = torch.relu(self.pps) * torch.Tensor([[0,1,0,0]]).repeat(batch_size, 1)\n",
    "        alpha = torch.sigmoid(self.pps) * torch.Tensor([[0,0,1,0]]).repeat(batch_size, 1)\n",
    "        tm = torch.relu(self.pps) * torch.Tensor([[0,0,0,1]]).repeat(batch_size, 1)\n",
    "        self.parameters = r0 + l0 + alpha + tm\n",
    "        return r0+l0+alpha+tm\n",
    "    def protect_decay(self, t, t0, eta, rate_time):\n",
    "        epsilon = 0.001\n",
    "        r = 2 * np.log((1-epsilon)/epsilon) / rate_time\n",
    "        x0 = t0 + rate_time/2\n",
    "        decay = eta / (1 + torch.exp(r * (t.unsqueeze(0).repeat(self.batch_size,1) - x0))) + 1 - eta\n",
    "        return decay\n",
    "    def forward(self, t, y):\n",
    "        sz = y.size()[1] // 4\n",
    "        Is = y[:,:sz]\n",
    "        Cs = y[:,sz:2*sz]\n",
    "        Ss = y[:,2*sz:3*sz]\n",
    "        lterm = Is @ self.pij.t() - Is\n",
    "        jterm = Cs @ self.pij.t() - Cs\n",
    "        sterm = Ss @ self.pij.t() - Ss\n",
    "        parameter = self.parameters.unsqueeze(1).repeat(1,sz,1)\n",
    "        cross_term = parameter[:, :, 0] * Is * Ss / self.t_l\n",
    "        if self.intervention:\n",
    "            cross_term *= self.protect_decay(t, self.t0, self.eta, parameter[:, :, 3])\n",
    "        delta_l = cross_term - Is / self.t_l + self.gamma * lterm\n",
    "        delta_j = parameter[:, :, 2] * Is /self.t_l - Cs / self.t_i #+ self.gamma * jterm\n",
    "        delta_s = - cross_term + self.gamma * sterm\n",
    "        output = torch.cat((delta_l, delta_j, delta_s),1)\n",
    "        return output"
   ]
  },
  {
   "cell_type": "markdown",
   "metadata": {},
   "source": [
    "## Simulation"
   ]
  },
  {
   "cell_type": "code",
   "execution_count": 39,
   "metadata": {
    "ExecuteTime": {
     "end_time": "2020-03-17T01:05:02.513268Z",
     "start_time": "2020-03-17T01:04:44.800231Z"
    }
   },
   "outputs": [
    {
     "name": "stdout",
     "output_type": "stream",
     "text": [
      "Wuhan Export (no inter.): [429, 422] (340-402-453-559)\n"
     ]
    }
   ],
   "source": [
    "t_days = 300 #200\n",
    "steps = 1000\n",
    "indexs = list(map(lambda x:int(x/(t_days/steps)), range(t_days)))\n",
    "jan_07 = []\n",
    "export = []\n",
    "cum_all = []\n",
    "cum_death = []\n",
    "\n",
    "wuhan=[]\n",
    "huanggang=[]\n",
    "chongqing=[]\n",
    "shanghai=[]\n",
    "wuhan_cum=[]\n",
    "huanggang_cum = []\n",
    "chongqing_cum = []\n",
    "shanghai_cum = []\n",
    "country=[]\n",
    "cum_confirm=[]\n",
    "death_ratio = 0.023\n",
    "testmedian = False\n",
    "\n",
    "all_inf = []\n",
    "\n",
    "\n",
    "wuhan25=[]\n",
    "wuhan25con=[]\n",
    "beijing25=[]\n",
    "shanghai25=[]\n",
    "shanghai25con=[]\n",
    "guangzhou25=[]\n",
    "shenzhen25=[]\n",
    "chongqing25=[]\n",
    "# Mar 4\n",
    "wuhan4=[]\n",
    "beijing4=[]\n",
    "shanghai4=[]\n",
    "guangzhou4=[]\n",
    "\n",
    "day90=[]\n",
    "\n",
    "city_cum = []\n",
    "\n",
    "MAEs = []\n",
    "all_para_results = []\n",
    "\n",
    "scenarios = {'no_inter':[35,22,False], \\\n",
    "             'baseline':[35,22,True], \\\n",
    "             'early':[35,12,True],\\\n",
    "             'severe':[70,22,True],\\\n",
    "             'new':[28, 22, True],\\\n",
    "             'early_slow':[70, 12, True]\n",
    "            }\n",
    "\n",
    "for best_para in experiments:\n",
    "    fit_param = sorted([(vvv[1],i) for i,vvv in enumerate(best_para)])\n",
    "    itm = best_para[fit_param[0][1]]\n",
    "    r0 = itm[0][0][0].item()\n",
    "    initial_latent = itm[0][0][1].item()\n",
    "    alpha = itm[0][0][2].item()\n",
    "    t_i = itm[2][0]#10#1/0.0134#6 #serial interval，参考SARS\n",
    "    t_l = itm[2][1]#8.89 #一个病患潜伏期时间，参考SARS、MERS\n",
    "    gamma = itm[2][2]#0.03#flowing_ratio\n",
    "    eta = 1\n",
    "    t_m, t_0, interQ = scenarios['early_slow']\n",
    "    interval = t_days / steps\n",
    "    Jan25=round((25-1)/interval)\n",
    "    Mar4=round((64-1)/interval)\n",
    "    \n",
    "    if testmedian:\n",
    "        r0=2.21\n",
    "        initial_latent=390\n",
    "        alpha=0.90\n",
    "\n",
    "\n",
    "    timespan = np.linspace(0, t_days, steps)\n",
    "    inter = timespan[1]-timespan[0]\n",
    "    Is0 = np.zeros(len(nodes))\n",
    "    Cs0 = np.zeros(len(nodes))\n",
    "    Ss0 = np.ones(len(nodes))\n",
    "    Is0[nodes['武汉市']] = float(initial_latent)/float(city_properties['武汉市']['pop'])#1e-4\n",
    "    Cs0[nodes['武汉市']] = float(first_cases)/float(city_properties['武汉市']['pop'])\n",
    "    Ss0[nodes['武汉市']] = 1-Is0[nodes['武汉市']]-Cs0[nodes['武汉市']]\n",
    "    cum_inf_conf = np.zeros(len(nodes))\n",
    "\n",
    "\n",
    "    result = odeint(diff, np.r_[Is0,Cs0,Ss0, cum_inf_conf], timespan, args = (r0, t_i, t_l, alpha, gamma, eta, \n",
    "                                                             t_m, t_0, pij,interQ,100))\n",
    "    #MAEs.append(MAE(result))\n",
    "    all_para_results.append(result[indexs])\n",
    "    jan_07.append(city_properties['武汉市']['pop']*(result[int(6 / interval), len(nodes) + nodes['武汉市']] \n",
    "                  + result[int(6 / interval), nodes['武汉市']]))\n",
    "    wuhanout=np.sum(result[:int(t_0/interval),nodes['武汉市']])*city_properties['武汉市']['pop']*gamma*interval\n",
    "    \n",
    "    city_cum.append(result[-1, 3*len(nodes):])\n",
    "    inflow = 0\n",
    "    for city,v in city_properties.items():\n",
    "        if city!='武汉市':\n",
    "            inflow+=np.sum(result[:int(t_0/interval),nodes[city]])*city_properties[city]['pop']*pij[nodes[city], nodes['武汉市']]*gamma*interval\n",
    "    export.append(wuhanout - inflow)\n",
    "    all_pop = np.zeros([result.shape[0]])\n",
    "    all_confirmed = np.zeros([result.shape[0]])\n",
    "    all_confirmed90 = 0\n",
    "    all_recovery = np.zeros([result.shape[0]])\n",
    "    all_sus = np.zeros([result.shape[0]])\n",
    "    inf_total = np.zeros([result.shape[0]])\n",
    "    for k,city in city_properties.items():\n",
    "        idx = nodes[k]\n",
    "        all_pop += (result[:, idx]+result[:, len(nodes)+idx]) * city['pop']\n",
    "        all_confirmed += (result[:, len(nodes)+idx]) * city['pop']\n",
    "        all_confirmed90 += (result[int(95/interval), len(nodes)+idx]) * city['pop']\n",
    "        all_recovery += (1-result[:, len(nodes)+idx]-result[:,idx]-result[:,2*len(nodes)+idx]) * city['pop']\n",
    "        inf_total += (result[:, idx]) * city['pop']\n",
    "        all_sus +=(result[:, 2*len(nodes)+idx]) #* city['pop']\n",
    "    cum_all.append(np.max(all_recovery)) #总感染\n",
    "    day90.append(all_confirmed90)\n",
    "    #cum_all.append(r0 * np.sum(all_sus * inf_total)*interval/t_l)\n",
    "    cum_death.append(np.max(all_recovery * death_ratio))\n",
    "    cum_confirm.append(alpha * np.sum(inf_total)*interval/t_l) #总确诊\n",
    "    \n",
    "    wuhan.append(np.max((result[:, nodes['武汉市']]+result[:, nodes['武汉市']+len(nodes)])*\n",
    "                        city_properties['武汉市']['pop']))\n",
    "    v=np.amax((result[:, nodes['武汉市']]+result[:, nodes['武汉市']+len(nodes)])*\n",
    "                        city_properties['武汉市']['pop'])\n",
    "    \n",
    "    wuhan_cum.append((1-result[-1, nodes['武汉市']+2*len(nodes)]-result[-1, nodes['武汉市']+1*len(nodes)]-result[-1, nodes['武汉市']+0*len(nodes)]) * city_properties['武汉市']['pop'])\n",
    "    huanggang_cum.append((1-result[-1, nodes['黄冈市']+2*len(nodes)]-result[-1, nodes['黄冈市']+1*len(nodes)]-result[-1, nodes['黄冈市']+0*len(nodes)]) * city_properties['黄冈市']['pop'])\n",
    "    chongqing_cum.append((1-result[-1, nodes['重庆市']+2*len(nodes)]-result[-1, nodes['重庆市']+1*len(nodes)]-result[-1, nodes['重庆市']+0*len(nodes)]) * city_properties['重庆市']['pop'])\n",
    "    shanghai_cum.append((1-result[-1, nodes['上海市']+2*len(nodes)]-result[-1, nodes['上海市']+1*len(nodes)]-result[-1, nodes['上海市']+0*len(nodes)]) * city_properties['上海市']['pop'])\n",
    "    \n",
    "    country.append(np.amax(all_pop))\n",
    "    huanggang.append(np.max((result[:, nodes['黄冈市']]+result[:, nodes['黄冈市']+len(nodes)])*\n",
    "                        city_properties['黄冈市']['pop']))\n",
    "    chongqing.append(np.max((result[:, nodes['重庆市']]+result[:, nodes['重庆市']+len(nodes)])*\n",
    "                        city_properties['重庆市']['pop']))\n",
    "    shanghai.append(np.max((result[:, nodes['上海市']]+result[:, nodes['上海市']+len(nodes)])*\n",
    "                        city_properties['上海市']['pop']))\n",
    "    # 算25号的人数\n",
    "    # 顺序：感染、确诊、易感\n",
    "    wuhan25.append((result[Jan25, nodes['武汉市']]+result[Jan25, nodes['武汉市']+len(nodes)])*\n",
    "                        city_properties['武汉市']['pop'])\n",
    "    wuhan25con.append((result[Jan25, nodes['武汉市']+len(nodes)])*\n",
    "                        city_properties['武汉市']['pop'])\n",
    "    beijing25.append((result[Jan25, nodes['北京市']]+result[Jan25, nodes['北京市']+len(nodes)])*\n",
    "                        city_properties['北京市']['pop'])\n",
    "    shanghai25.append((result[Jan25, nodes['上海市']]+result[Jan25, nodes['上海市']+len(nodes)])*\n",
    "                        city_properties['上海市']['pop'])\n",
    "    shanghai25con.append((result[Jan25, nodes['上海市']+len(nodes)])*\n",
    "                        city_properties['上海市']['pop'])\n",
    "    guangzhou25.append((result[Jan25, nodes['广州市']]+result[Jan25, nodes['广州市']+len(nodes)])*\n",
    "                        city_properties['广州市']['pop'])\n",
    "    shenzhen25.append((result[Jan25, nodes['深圳市']]+result[Jan25, nodes['深圳市']+len(nodes)])*\n",
    "                        city_properties['深圳市']['pop'])\n",
    "    chongqing25.append((result[Jan25, nodes['重庆市']]+result[Jan25, nodes['重庆市']+len(nodes)])*\n",
    "                        city_properties['重庆市']['pop'])\n",
    "    \n",
    "    wuhan4.append((result[Mar4, nodes['武汉市']]+result[Mar4, nodes['武汉市']+len(nodes)])*\n",
    "                        city_properties['武汉市']['pop'])\n",
    "    beijing4.append((result[Mar4, nodes['北京市']]+result[Mar4, nodes['北京市']+len(nodes)])*\n",
    "                        city_properties['北京市']['pop'])\n",
    "    shanghai4.append((result[Mar4, nodes['上海市']]+result[Mar4, nodes['上海市']+len(nodes)])*\n",
    "                        city_properties['上海市']['pop'])\n",
    "    guangzhou4.append((result[Mar4, nodes['广州市']]+result[Mar4, nodes['广州市']+len(nodes)])*\n",
    "                        city_properties['广州市']['pop'])\n",
    "    \n",
    "# 转成目标格式：\n",
    "# 城市 - 时间 - 实验次数\n",
    "plotdata = np.array(all_para_results).transpose(2,1,0)\n",
    "\n",
    "pop = np.zeros(371)\n",
    "for city_name in nodes.keys():\n",
    "    idx = nodes[city_name]\n",
    "    _pop = city_properties[city_name]['pop']\n",
    "    pop[idx] = _pop\n",
    "pop = np.concatenate([pop,pop,pop,pop])\n",
    "\n",
    "for idx in range(len(plotdata)):\n",
    "    plotdata[idx] *= pop[idx]\n",
    "ReportInt(1.56*np.array(export), 'Wuhan Export (no inter.): ')"
   ]
  },
  {
   "cell_type": "code",
   "execution_count": 13,
   "metadata": {
    "ExecuteTime": {
     "end_time": "2020-03-17T00:26:43.736156Z",
     "start_time": "2020-03-17T00:26:43.730792Z"
    }
   },
   "outputs": [
    {
     "data": {
      "text/plain": [
       "(1484, 400, 360)"
      ]
     },
     "execution_count": 13,
     "metadata": {},
     "output_type": "execute_result"
    }
   ],
   "source": [
    "plotdata.shape"
   ]
  },
  {
   "cell_type": "code",
   "execution_count": 43,
   "metadata": {
    "ExecuteTime": {
     "end_time": "2020-03-17T01:05:59.626916Z",
     "start_time": "2020-03-17T01:05:59.007570Z"
    }
   },
   "outputs": [
    {
     "data": {
      "image/png": "[encoded data removed]",
      "text/plain": [
       "<Figure size 432x288 with 1 Axes>"
      ]
     },
     "metadata": {
      "needs_background": "light"
     },
     "output_type": "display_data"
    }
   ],
   "source": [
    "plt.plot(np.mean(plotdata[len(nodes):2*len(nodes),:,:],axis=2).T)\n",
    "plt.plot(np.ones(300))\n",
    "plt.semilogy()\n",
    "plt.show()"
   ]
  },
  {
   "cell_type": "code",
   "execution_count": 41,
   "metadata": {
    "ExecuteTime": {
     "end_time": "2020-03-17T01:05:04.909613Z",
     "start_time": "2020-03-17T01:05:04.183413Z"
    }
   },
   "outputs": [
    {
     "data": {
      "image/png": "[encoded data removed]",
      "text/plain": [
       "<Figure size 432x288 with 1 Axes>"
      ]
     },
     "metadata": {
      "needs_background": "light"
     },
     "output_type": "display_data"
    }
   ],
   "source": [
    "plt.plot(np.sum(plotdata[:2*len(nodes),:,:],axis=0))\n",
    "plt.semilogy()\n",
    "plt.show()"
   ]
  },
  {
   "cell_type": "code",
   "execution_count": 15,
   "metadata": {
    "ExecuteTime": {
     "end_time": "2020-03-16T00:24:25.831238Z",
     "start_time": "2020-03-16T00:24:25.825316Z"
    }
   },
   "outputs": [],
   "source": [
    "def pltdata(cname, t):\n",
    "    # cname: city name\n",
    "    # t: time\n",
    "    idx = nodes[cname] # index\n",
    "    nl = len(nodes) # node length\n",
    "    popu = city_properties[cname]['pop']\n",
    "    prov = city_properties[cname]['prov']\n",
    "    \n",
    "    # 感染、确诊、易感\n",
    "    # index,cityname,citypopu,cityprov,time,\n",
    "    # infe, infe_l, infe_h,\n",
    "    # conf, conf_l, conf_h,\n",
    "    # susp, susp_l, susp_h\n",
    "    basicdata = [0, cname, popu, prov, t]\n",
    "    infs = ReportData(plotdata[idx, t])\n",
    "    confs = ReportData(plotdata[nl+idx, t])\n",
    "    susps = ReportData(plotdata[2*nl+idx, t])\n",
    "    infconf = ReportData(plotdata[idx, t]+plotdata[nl+idx, t])\n",
    "    return basicdata + infs + confs+susps + infconf"
   ]
  },
  {
   "cell_type": "markdown",
   "metadata": {},
   "source": [
    "### Compute MAE"
   ]
  },
  {
   "cell_type": "code",
   "execution_count": 32,
   "metadata": {
    "ExecuteTime": {
     "end_time": "2020-03-16T00:46:49.703753Z",
     "start_time": "2020-03-16T00:46:49.653795Z"
    }
   },
   "outputs": [],
   "source": [
    "maes=[]\n",
    "mapes=[]\n",
    "\n",
    "for city,i in nodes.items():\n",
    "    itm = all_cases.get(city, [])\n",
    "    if len(itm)==0:\n",
    "        itm = all_cases.get(city[:-1], [])\n",
    "    if len(itm)>0:\n",
    "        times = itm[0]\n",
    "        confirmed = itm[1] - itm[2] - itm[3]\n",
    "        mae = []\n",
    "        mape = []\n",
    "        count = 0\n",
    "        for j,time in enumerate(times):\n",
    "            real = confirmed[j]\n",
    "            if real > 0:\n",
    "                predict = result[int(time / interval), len(nodes)+i] * city_properties[city]['pop']\n",
    "                mae.append(np.abs(real - predict))\n",
    "                mape.append(np.abs(real - predict) / real)\n",
    "                count += 1\n",
    "                #print(mape)\n",
    "                if real == 0:\n",
    "                    print(itm)\n",
    "                    print(confirmed[j])\n",
    "                    print(j)\n",
    "        if count > 0:\n",
    "            maes.append(np.mean(mae))\n",
    "            mapes.append(np.mean(mape))\n"
   ]
  },
  {
   "cell_type": "code",
   "execution_count": 34,
   "metadata": {
    "ExecuteTime": {
     "end_time": "2020-03-14T19:17:08.001940Z",
     "start_time": "2020-03-14T19:17:07.841346Z"
    },
    "scrolled": true
   },
   "outputs": [
    {
     "data": {
      "image/png": "[encoded data removed]",
      "text/plain": [
       "<Figure size 432x288 with 1 Axes>"
      ]
     },
     "metadata": {
      "needs_background": "light"
     },
     "output_type": "display_data"
    }
   ],
   "source": [
    "plt.hist(np.log10(maes))\n",
    "#plt.hist(mapes)\n",
    "plt.xlabel('$\\log_{10}(MAE)$')\n",
    "plt.ylabel('Count')\n",
    "plt.show()"
   ]
  },
  {
   "cell_type": "code",
   "execution_count": 33,
   "metadata": {
    "ExecuteTime": {
     "end_time": "2020-03-16T00:46:58.429755Z",
     "start_time": "2020-03-16T00:46:58.424682Z"
    }
   },
   "outputs": [
    {
     "data": {
      "text/plain": [
       "(16.5716026154312, 6.573720206900261)"
      ]
     },
     "execution_count": 33,
     "metadata": {},
     "output_type": "execute_result"
    }
   ],
   "source": [
    "np.mean(maes), np.std(maes) / np.sqrt(len(nodes)) * 1.96"
   ]
  },
  {
   "cell_type": "markdown",
   "metadata": {},
   "source": [
    "### Confirmed population at different days"
   ]
  },
  {
   "cell_type": "code",
   "execution_count": 29,
   "metadata": {
    "ExecuteTime": {
     "end_time": "2020-03-16T00:41:53.939108Z",
     "start_time": "2020-03-16T00:41:53.927959Z"
    },
    "scrolled": false
   },
   "outputs": [
    {
     "name": "stdout",
     "output_type": "stream",
     "text": [
      "10 ========\n",
      "wuhan: [521, 503] (325-421-605-796)\n",
      "shanghai: [1.29, 1.31] (0.99-1.29-1.33-1.37)\n",
      "China: [646, 631] (452-548-734-893)\n",
      "17 ========\n",
      "wuhan: [1330, 1247] (724-1005-1564-2433)\n",
      "shanghai: [7.6, 7.66] (6.67-7.58-7.73-7.86)\n",
      "China: [2032, 1957] (1381-1693-2294-3058)\n",
      "24 ========\n",
      "wuhan: [3244, 2936] (1558-2281-3817-7129)\n",
      "shanghai: [31.72, 31.81] (29.81-31.09-32.48-33.15)\n",
      "China: [6038, 5740] (4015-4948-6766-10074)\n",
      "31 ========\n",
      "wuhan: [7906, 6833] (3314-5148-9222-20294)\n",
      "shanghai: [114.75, 114.22] (102.93-109.76-119.29-129.28)\n",
      "China: [17575, 16408] (11251-14078-19535-32420)\n",
      "38 ========\n",
      "wuhan: [18091, 14883] (6691-10913-20719-52415)\n",
      "shanghai: [356.43, 351.14] (301.31-331.75-372.0-454.46)\n",
      "China: [46948, 43108] (28917-36602-51760-93492)\n"
     ]
    }
   ],
   "source": [
    "# 确诊人数\n",
    "for tt in [10, 17, 24, 31, 38]:\n",
    "    print(tt, '========')\n",
    "    #tt=10# Feb 7: 38\n",
    "    ReportInt(plotdata[len(nodes)+nodes['武汉市'], tt-1], 'wuhan: ')\n",
    "    Report(plotdata[len(nodes)+nodes['上海市'], tt-1], 'shanghai: ', 2)\n",
    "    ReportInt(np.sum(plotdata[len(nodes):2*len(nodes), tt-1], axis=0), 'China: ')"
   ]
  },
  {
   "cell_type": "markdown",
   "metadata": {},
   "source": [
    "### Export to as the plot data"
   ]
  },
  {
   "cell_type": "code",
   "execution_count": 96,
   "metadata": {
    "ExecuteTime": {
     "end_time": "2020-03-16T04:53:17.711651Z",
     "start_time": "2020-03-16T04:53:17.692757Z"
    }
   },
   "outputs": [],
   "source": [
    "title=['index','cityname','citypopu','cityprov','time',\n",
    "        'infe', 'infe_l', 'infe_h',\n",
    "        'conf', 'conf_l', 'conf_h',\n",
    "        'susp', 'susp_l', 'susp_h',\n",
    "        'inf+conf', 'inf+conf_l', 'inf+conf_h',\n",
    "      ]\n",
    "\n",
    "exportplotdata = []\n",
    "exportplotdata.append(title)\n",
    "for cname in nodes.keys():\n",
    "    for t in range(200):\n",
    "        #print(cname)\n",
    "        #print(pltdata(cname, t))\n",
    "        exportplotdata.append(pltdata(cname, t))\n",
    "for i in range(len(exportplotdata) - 1):\n",
    "    exportplotdata[i+1][0] = i\n",
    "\n",
    "import csv\n",
    "\n",
    "with open('./data/plot_data_early_slow_cities.csv', 'w') as csvfile:\n",
    "    writer = csv.writer(csvfile)\n",
    "    writer.writerows(exportplotdata)"
   ]
  },
  {
   "cell_type": "markdown",
   "metadata": {},
   "source": [
    "### no intervention:"
   ]
  },
  {
   "cell_type": "code",
   "execution_count": 17,
   "metadata": {
    "ExecuteTime": {
     "end_time": "2020-03-16T23:31:46.887366Z",
     "start_time": "2020-03-16T23:31:46.859780Z"
    }
   },
   "outputs": [
    {
     "name": "stdout",
     "output_type": "stream",
     "text": [
      "wuhan Jan 7: [1161, 1138] (733-972-1347-1675)\n",
      "wuhan\t\t [3606740, 3603909] (3149806-3476867-3729595-4057082)\n",
      "huanggang\t [2086858, 2086091] (1824794-2014948-2156590-2341654)\n",
      "chongqing\t [10333431, 10341738] (9064714-9990037-10674626-11554892)\n",
      "shanghai\t [8145281, 8149047] (7147801-7872539-8412533-9117323)\n",
      "total infect\t [1182444865, 1180451880] (1160072370-1173376730-1188786380-1220233414)\n",
      "total infect\t [1.1824, 1.1805] (1.1601-1.1734-1.1888-1.2202)\n",
      "country max\t [460187299, 461361443] (404797776-445304125-475093540-508583304)\n",
      "total death\t [27196232, 27150393] (26681665-26987665-27342087-28065369)\n",
      "total death\t [0.0272, 0.0272] (0.0267-0.027-0.0273-0.0281)\n",
      "total confirm\t [1085171349, 1117449838] (845380912-1037069808-1156169240-1195085060)\n",
      "total confirm\t [1.0852, 1.1174] (0.8454-1.0371-1.1562-1.1951)\n",
      "Jan 25:=====\n",
      "Wuhan: [11581, 10318] (5111-8219-13513-25997)\n",
      "Shanghai: [144, 143] (127-137-149-170)\n",
      "Beijing: [112, 112] (97-106-116-130)\n",
      "Guangzhou: [79, 77] (71-75-82-97)\n",
      "Mar 4:======\n",
      "Wuhan: [1232874, 1076525] (458849-797533-1463893-3276767)\n",
      "Shanghai: [92879, 86360] (62974-78163-96431-169120)\n",
      "Beijing: [68708, 63486] (45737-56905-71289-129237)\n",
      "Guangzhou: [58207, 55103] (42170-50684-60121-96755)\n",
      "Total inf:=====\n",
      "Wuhan Total Inf.: [11219977, 11225900] (11017019-11155250-11292152-11406615)\n",
      "total death: [258059, 258196] (253391-256571-259720-262352)\n",
      "Huanggang Total Inf.: [6169650, 6192839] (5856919-6060205-6279568-6413495)\n",
      "total death: [141901.95, 142435.3] (134709.13-139384.72-144430.06-147510.38)\n",
      "Chongqing Total Inf.: [27062522, 27043198] (26440281-26841893-27252828-27896624)\n",
      "total death: [622438.0, 621993.56] (608126.46-617363.55-626815.04-641622.34)\n",
      "Shanghai Total Inf.: [21065353, 21041185] (20715874-20934391-21183761-21593042)\n",
      "total death: [484503.11, 483947.25] (476465.11-481490.99-487226.49-496639.96)\n"
     ]
    }
   ],
   "source": [
    "v=jan_07\n",
    "ReportInt(v, 'wuhan Jan 7: ')\n",
    "\n",
    "v = wuhan\n",
    "ReportInt(v, 'wuhan\\t\\t ')\n",
    "\n",
    "v = huanggang\n",
    "ReportInt(v, 'huanggang\\t ')\n",
    "\n",
    "v = chongqing\n",
    "ReportInt(v, 'chongqing\\t ')\n",
    "\n",
    "v = shanghai\n",
    "ReportInt(v, 'shanghai\\t ')\n",
    "\n",
    "v = cum_all\n",
    "ReportInt(v, 'total infect\\t ')\n",
    "Report(np.array(v)/1e9, 'total infect\\t ',4)\n",
    "\n",
    "v = country\n",
    "ReportInt(v, 'country max\\t ')\n",
    "\n",
    "v = cum_death\n",
    "ReportInt(v, 'total death\\t ')\n",
    "Report(np.array(v)/1e9, 'total death\\t ',4)\n",
    "\n",
    "v = cum_confirm\n",
    "ReportInt(v, 'total confirm\\t ')\n",
    "Report(np.array(v)/1e9, 'total confirm\\t ',4)\n",
    "\n",
    "print('Jan 25:=====')\n",
    "# Jan. 25, 2020\n",
    "v = wuhan25\n",
    "ReportInt(v, 'Wuhan: ')\n",
    "\n",
    "v = shanghai25\n",
    "ReportInt(v, 'Shanghai: ')\n",
    "\n",
    "v = beijing25\n",
    "ReportInt(v, 'Beijing: ')\n",
    "\n",
    "v = guangzhou25\n",
    "ReportInt(v, 'Guangzhou: ')\n",
    "\n",
    "\n",
    "print('Mar 4:======')\n",
    "v = wuhan4\n",
    "ReportInt(v, 'Wuhan: ')\n",
    "\n",
    "v = shanghai4\n",
    "ReportInt(v, 'Shanghai: ')\n",
    "\n",
    "v = beijing4\n",
    "ReportInt(v, 'Beijing: ')\n",
    "\n",
    "v = guangzhou4\n",
    "ReportInt(v, 'Guangzhou: ')\n",
    "\n",
    "\n",
    "print('Total inf:=====')\n",
    "v = np.array(city_cum)[:, nodes['武汉市']]*city_properties['武汉市']['pop']\n",
    "ReportInt(v, 'Wuhan Total Inf.: ')\n",
    "ReportInt(v*death_ratio, 'total death: ')\n",
    "\n",
    "v = np.array(city_cum)[:, nodes['黄冈市']]*city_properties['黄冈市']['pop']\n",
    "ReportInt(v, 'Huanggang Total Inf.: ')\n",
    "Report(v*death_ratio, 'total death: ',2)\n",
    "\n",
    "v = np.array(city_cum)[:, nodes['重庆市']]*city_properties['重庆市']['pop']\n",
    "ReportInt(v, 'Chongqing Total Inf.: ')\n",
    "Report(v*death_ratio, 'total death: ',2)\n",
    "\n",
    "v = np.array(city_cum)[:, nodes['上海市']]*city_properties['上海市']['pop']\n",
    "ReportInt(v, 'Shanghai Total Inf.: ')\n",
    "Report(v*death_ratio, 'total death: ',2)"
   ]
  },
  {
   "cell_type": "code",
   "execution_count": 158,
   "metadata": {
    "ExecuteTime": {
     "end_time": "2020-03-15T01:54:10.496578Z",
     "start_time": "2020-03-15T01:54:10.492420Z"
    }
   },
   "outputs": [],
   "source": [
    "import csv\n",
    "\n",
    "def savelist(filename, dlist):\n",
    "    with open('./data/'+filename, 'w') as csvfile:\n",
    "        writer = csv.writer(csvfile)\n",
    "        writer.writerows(dlist)"
   ]
  },
  {
   "cell_type": "code",
   "execution_count": 162,
   "metadata": {
    "ExecuteTime": {
     "end_time": "2020-03-15T01:57:43.878175Z",
     "start_time": "2020-03-15T01:57:43.872667Z"
    }
   },
   "outputs": [],
   "source": [
    "savelist('wuhan_max_no_inter.csv', [wuhan])\n",
    "savelist('all_inf_no_inter.csv', [cum_all])\n",
    "savelist('wuhan_25_no_inter.csv', [wuhan25])"
   ]
  },
  {
   "cell_type": "markdown",
   "metadata": {},
   "source": [
    "### baseline:"
   ]
  },
  {
   "cell_type": "code",
   "execution_count": 164,
   "metadata": {
    "ExecuteTime": {
     "end_time": "2020-03-15T01:58:25.478619Z",
     "start_time": "2020-03-15T01:58:25.474395Z"
    }
   },
   "outputs": [],
   "source": [
    "savelist('wuhan_max_base.csv', [wuhan])\n",
    "savelist('all_inf_no_base.csv', [cum_all])\n",
    "savelist('wuhan_25_no_base.csv', [wuhan25])"
   ]
  },
  {
   "cell_type": "code",
   "execution_count": 30,
   "metadata": {
    "ExecuteTime": {
     "end_time": "2020-03-16T00:43:53.998484Z",
     "start_time": "2020-03-16T00:43:53.970021Z"
    },
    "scrolled": false
   },
   "outputs": [
    {
     "name": "stdout",
     "output_type": "stream",
     "text": [
      "wuhan Jan 7: [1161, 1138] (733-972-1347-1675)\n",
      "wuhan\t\t [59772, 47914] (20537-36089-66658-176147)\n",
      "huanggang\t [13117, 12543] (7464-10680-14733-22938)\n",
      "chongqing\t [1772, 1751] (1423-1631-1864-2251)\n",
      "shanghai\t [1541, 1521] (1234-1414-1624-1977)\n",
      "total infect\t [302944, 278137] (173553-235491-336302-604469)\n",
      "total infect\t [0.0003, 0.0003] (0.0002-0.0002-0.0003-0.0006)\n",
      "country max\t [178887, 164768] (106777-141930-194832-348530)\n",
      "total death\t [6968, 6397] (3992-5416-7735-13903)\n",
      "total death\t [0.0, 0.0] (0.0-0.0-0.0-0.0)\n",
      "total confirm\t [255694, 232676] (154390-196810-280209-522720)\n",
      "total confirm\t [0.0003, 0.0002] (0.0002-0.0002-0.0003-0.0005)\n",
      "Jan 25:=====\n",
      "Wuhan: [11566, 10306] (5104-8209-13497-25963)\n",
      "Shanghai: [144, 143] (127-137-149-170)\n",
      "Beijing: [111, 111] (97-106-116-130)\n",
      "Guangzhou: [79, 77] (71-75-82-96)\n",
      "Mar 4:======\n",
      "Wuhan: [12021, 9146] (3791-6498-13270-36072)\n",
      "Shanghai: [448, 435] (336-401-478-648)\n",
      "Beijing: [334, 323] (245-295-357-500)\n",
      "Guangzhou: [276, 272] (220-254-292-360)\n",
      "Total inf:=====\n",
      "Wuhan Total Inf.: [106663, 88491] (39670-68234-121736-289773)\n",
      "total death: [2453, 2035] (912-1569-2800-6665)\n",
      "Huanggang Total Inf.: [19560, 18984] (12079-16353-21838-31349)\n",
      "total death: [449.87, 436.63] (277.82-376.12-502.28-721.02)\n",
      "Chongqing Total Inf.: [2411, 2376] (1939-2199-2566-3195)\n",
      "total death: [55.46, 54.66] (44.6-50.59-59.02-73.49)\n",
      "Shanghai Total Inf.: [2103, 2072] (1683-1912-2238-2815)\n",
      "total death: [48.36, 47.65] (38.7-43.97-51.48-64.74)\n"
     ]
    }
   ],
   "source": [
    "v=jan_07\n",
    "ReportInt(v, 'wuhan Jan 7: ')\n",
    "\n",
    "v = wuhan\n",
    "ReportInt(v, 'wuhan\\t\\t ')\n",
    "\n",
    "v = huanggang\n",
    "ReportInt(v, 'huanggang\\t ')\n",
    "\n",
    "v = chongqing\n",
    "ReportInt(v, 'chongqing\\t ')\n",
    "\n",
    "v = shanghai\n",
    "ReportInt(v, 'shanghai\\t ')\n",
    "\n",
    "v = cum_all\n",
    "ReportInt(v, 'total infect\\t ')\n",
    "Report(np.array(v)/1e9, 'total infect\\t ',4)\n",
    "\n",
    "v = country\n",
    "ReportInt(v, 'country max\\t ')\n",
    "\n",
    "v = cum_death\n",
    "ReportInt(v, 'total death\\t ')\n",
    "Report(np.array(v)/1e9, 'total death\\t ',4)\n",
    "\n",
    "v = cum_confirm\n",
    "ReportInt(v, 'total confirm\\t ')\n",
    "Report(np.array(v)/1e9, 'total confirm\\t ',4)\n",
    "\n",
    "print('Jan 25:=====')\n",
    "# Jan. 25, 2020\n",
    "v = wuhan25\n",
    "ReportInt(v, 'Wuhan: ')\n",
    "\n",
    "v = shanghai25\n",
    "ReportInt(v, 'Shanghai: ')\n",
    "\n",
    "v = beijing25\n",
    "ReportInt(v, 'Beijing: ')\n",
    "\n",
    "v = guangzhou25\n",
    "ReportInt(v, 'Guangzhou: ')\n",
    "\n",
    "\n",
    "print('Mar 4:======')\n",
    "v = wuhan4\n",
    "ReportInt(v, 'Wuhan: ')\n",
    "\n",
    "v = shanghai4\n",
    "ReportInt(v, 'Shanghai: ')\n",
    "\n",
    "v = beijing4\n",
    "ReportInt(v, 'Beijing: ')\n",
    "\n",
    "v = guangzhou4\n",
    "ReportInt(v, 'Guangzhou: ')\n",
    "\n",
    "\n",
    "print('Total inf:=====')\n",
    "v = np.array(city_cum)[:, nodes['武汉市']]*city_properties['武汉市']['pop']\n",
    "ReportInt(v, 'Wuhan Total Inf.: ')\n",
    "ReportInt(v*death_ratio, 'total death: ')\n",
    "\n",
    "v = np.array(city_cum)[:, nodes['黄冈市']]*city_properties['黄冈市']['pop']\n",
    "ReportInt(v, 'Huanggang Total Inf.: ')\n",
    "Report(v*death_ratio, 'total death: ',2)\n",
    "\n",
    "v = np.array(city_cum)[:, nodes['重庆市']]*city_properties['重庆市']['pop']\n",
    "ReportInt(v, 'Chongqing Total Inf.: ')\n",
    "Report(v*death_ratio, 'total death: ',2)\n",
    "\n",
    "v = np.array(city_cum)[:, nodes['上海市']]*city_properties['上海市']['pop']\n",
    "ReportInt(v, 'Shanghai Total Inf.: ')\n",
    "Report(v*death_ratio, 'total death: ',2)"
   ]
  },
  {
   "cell_type": "markdown",
   "metadata": {},
   "source": [
    "### early warning:"
   ]
  },
  {
   "cell_type": "code",
   "execution_count": 53,
   "metadata": {
    "ExecuteTime": {
     "end_time": "2020-03-16T00:56:26.673249Z",
     "start_time": "2020-03-16T00:56:26.645836Z"
    }
   },
   "outputs": [
    {
     "name": "stdout",
     "output_type": "stream",
     "text": [
      "wuhan Jan 7: [1161, 1138] (733-972-1347-1675)\n",
      "wuhan\t\t [16293, 13977] (6535-10911-18802-40437)\n",
      "huanggang\t [2792, 2778] (1874-2450-3106-3868)\n",
      "chongqing\t [326, 327] (280-309-342-377)\n",
      "shanghai\t [285, 286] (243-269-299-334)\n",
      "total infect\t [68307, 64756] (41270-54964-76852-120930)\n",
      "total infect\t [0.0001, 0.0001] (0.0-0.0001-0.0001-0.0001)\n",
      "country max\t [39361, 37196] (24953-32401-43643-67985)\n",
      "total death\t [1571, 1489] (949-1264-1768-2781)\n",
      "total death\t [0.0, 0.0] (0.0-0.0-0.0-0.0)\n",
      "total confirm\t [55971, 52254] (35596-44998-62088-101563)\n",
      "total confirm\t [0.0001, 0.0001] (0.0-0.0-0.0001-0.0001)\n",
      "Jan 25:=====\n",
      "Wuhan: [10908, 9727] (4820-7756-12740-24381)\n",
      "Shanghai: [135, 134] (120-129-140-159)\n",
      "Beijing: [105, 105] (91-100-109-122)\n",
      "Guangzhou: [74, 73] (67-71-77-91)\n",
      "Mar 4:======\n",
      "Wuhan: [1229, 1007] (424-719-1418-3123)\n",
      "Shanghai: [39, 38] (29-35-42-50)\n",
      "Beijing: [29, 29] (21-26-31-38)\n",
      "Guangzhou: [24, 23] (19-22-25-29)\n",
      "Total inf:=====\n",
      "Wuhan Total Inf.: [29006, 25759] (12575-20378-33878-65794)\n",
      "total death: [667, 592] (289-469-779-1513)\n",
      "Huanggang Total Inf.: [3861, 3880] (2748-3438-4286-5044)\n",
      "total death: [88.81, 89.23] (63.2-79.06-98.59-116.01)\n",
      "Chongqing Total Inf.: [411, 404] (352-384-431-510)\n",
      "total death: [9.44, 9.29] (8.09-8.84-9.91-11.72)\n",
      "Shanghai Total Inf.: [360, 356] (306-336-379-446)\n",
      "total death: [8.28, 8.18] (7.04-7.73-8.72-10.25)\n"
     ]
    }
   ],
   "source": [
    "v=jan_07\n",
    "ReportInt(v, 'wuhan Jan 7: ')\n",
    "\n",
    "v = wuhan\n",
    "ReportInt(v, 'wuhan\\t\\t ')\n",
    "\n",
    "v = huanggang\n",
    "ReportInt(v, 'huanggang\\t ')\n",
    "\n",
    "v = chongqing\n",
    "ReportInt(v, 'chongqing\\t ')\n",
    "\n",
    "v = shanghai\n",
    "ReportInt(v, 'shanghai\\t ')\n",
    "\n",
    "v = cum_all\n",
    "ReportInt(v, 'total infect\\t ')\n",
    "Report(np.array(v)/1e9, 'total infect\\t ',4)\n",
    "\n",
    "v = country\n",
    "ReportInt(v, 'country max\\t ')\n",
    "\n",
    "v = cum_death\n",
    "ReportInt(v, 'total death\\t ')\n",
    "Report(np.array(v)/1e9, 'total death\\t ',4)\n",
    "\n",
    "v = cum_confirm\n",
    "ReportInt(v, 'total confirm\\t ')\n",
    "Report(np.array(v)/1e9, 'total confirm\\t ',4)\n",
    "\n",
    "print('Jan 25:=====')\n",
    "# Jan. 25, 2020\n",
    "v = wuhan25\n",
    "ReportInt(v, 'Wuhan: ')\n",
    "\n",
    "v = shanghai25\n",
    "ReportInt(v, 'Shanghai: ')\n",
    "\n",
    "v = beijing25\n",
    "ReportInt(v, 'Beijing: ')\n",
    "\n",
    "v = guangzhou25\n",
    "ReportInt(v, 'Guangzhou: ')\n",
    "\n",
    "\n",
    "print('Mar 4:======')\n",
    "v = wuhan4\n",
    "ReportInt(v, 'Wuhan: ')\n",
    "\n",
    "v = shanghai4\n",
    "ReportInt(v, 'Shanghai: ')\n",
    "\n",
    "v = beijing4\n",
    "ReportInt(v, 'Beijing: ')\n",
    "\n",
    "v = guangzhou4\n",
    "ReportInt(v, 'Guangzhou: ')\n",
    "\n",
    "\n",
    "print('Total inf:=====')\n",
    "v = np.array(city_cum)[:, nodes['武汉市']]*city_properties['武汉市']['pop']\n",
    "ReportInt(v, 'Wuhan Total Inf.: ')\n",
    "ReportInt(v*death_ratio, 'total death: ')\n",
    "\n",
    "v = np.array(city_cum)[:, nodes['黄冈市']]*city_properties['黄冈市']['pop']\n",
    "ReportInt(v, 'Huanggang Total Inf.: ')\n",
    "Report(v*death_ratio, 'total death: ',2)\n",
    "\n",
    "v = np.array(city_cum)[:, nodes['重庆市']]*city_properties['重庆市']['pop']\n",
    "ReportInt(v, 'Chongqing Total Inf.: ')\n",
    "Report(v*death_ratio, 'total death: ',2)\n",
    "\n",
    "v = np.array(city_cum)[:, nodes['上海市']]*city_properties['上海市']['pop']\n",
    "ReportInt(v, 'Shanghai Total Inf.: ')\n",
    "Report(v*death_ratio, 'total death: ',2)"
   ]
  },
  {
   "cell_type": "markdown",
   "metadata": {},
   "source": [
    "### servere:"
   ]
  },
  {
   "cell_type": "code",
   "execution_count": 231,
   "metadata": {
    "ExecuteTime": {
     "end_time": "2020-03-15T03:32:55.011457Z",
     "start_time": "2020-03-15T03:32:54.986154Z"
    },
    "scrolled": false
   },
   "outputs": [
    {
     "name": "stdout",
     "output_type": "stream",
     "text": [
      "wuhan Jan 7: [1170, 1143] (758-982-1361-1675)\n",
      "wuhan\t\t [358063, 271337] (118579-195916-397939-1150361)\n",
      "huanggang\t [113152, 99041] (54697-80486-125586-256793)\n",
      "chongqing\t [20112, 19163] (14121-17254-20949-32491)\n",
      "shanghai\t [17479, 16652] (12323-15004-18158-28310)\n",
      "total infect\t [3032531, 2738222] (1681473-2306353-3283727-6512208)\n",
      "total infect\t [3.0325, 2.7382] (1.6815-2.3064-3.2837-6.5122)\n",
      "country max\t [1585423, 1404554] (923650-1206336-1699167-3355589)\n",
      "total death\t [69748, 62979] (38674-53046-75526-149781)\n",
      "total death\t [0.0697, 0.063] (0.0387-0.053-0.0755-0.1498)\n",
      "total confirm\t [2658018, 2320576] (1563309-1950397-2849074-5932460)\n",
      "total confirm\t [2.658, 2.3206] (1.5633-1.9504-2.8491-5.9325)\n",
      "Jan 25:=====\n",
      "Wuhan: [11763, 10358] (5474-8246-13680-25949)\n",
      "Shanghai: [144, 143] (128-137-149-171)\n",
      "Beijing: [112, 112] (97-106-116-131)\n",
      "Guangzhou: [79, 77] (71-75-82-97)\n",
      "Mar 4:======\n",
      "Wuhan: [321910, 243680] (106609-175335-360745-1031804)\n",
      "Shanghai: [17122, 16234] (12011-14632-17797-27877)\n",
      "Beijing: [12678, 11932] (8720-10696-13244-21326)\n",
      "Guangzhou: [10691, 10301] (7945-9436-11104-15914)\n",
      "Total inf:=====\n",
      "Wuhan Total Inf.: [743569, 578794] (264189-440235-824096-2253648)\n",
      "total death: [17102, 13312] (6076-10125-18954-51834)\n",
      "Huanggang Total Inf.: [208664, 188927] (103708-156132-231962-440543)\n",
      "total death: [4799, 4345] (2385-3591-5335-10132)\n",
      "Chongqing Total Inf.: [34029, 32585] (24029-29125-35813-52750)\n",
      "total death: [783, 749] (553-670-824-1213)\n",
      "Shanghai Total Inf.: [29582, 28257] (21015-25267-31064-46127)\n",
      "total death: [680, 650] (483-581-714-1061)\n"
     ]
    }
   ],
   "source": [
    "v=jan_07\n",
    "ReportInt(v, 'wuhan Jan 7: ')\n",
    "\n",
    "v = wuhan\n",
    "ReportInt(v, 'wuhan\\t\\t ')\n",
    "\n",
    "v = huanggang\n",
    "ReportInt(v, 'huanggang\\t ')\n",
    "\n",
    "v = chongqing\n",
    "ReportInt(v, 'chongqing\\t ')\n",
    "\n",
    "v = shanghai\n",
    "ReportInt(v, 'shanghai\\t ')\n",
    "\n",
    "v = cum_all\n",
    "ReportInt(v, 'total infect\\t ')\n",
    "Report(np.array(v)/1e6, 'total infect\\t ',4)\n",
    "\n",
    "v = country\n",
    "ReportInt(v, 'country max\\t ')\n",
    "\n",
    "v = cum_death\n",
    "ReportInt(v, 'total death\\t ')\n",
    "Report(np.array(v)/1e6, 'total death\\t ',4)\n",
    "\n",
    "v = cum_confirm\n",
    "ReportInt(v, 'total confirm\\t ')\n",
    "Report(np.array(v)/1e6, 'total confirm\\t ',4)\n",
    "\n",
    "print('Jan 25:=====')\n",
    "# Jan. 25, 2020\n",
    "v = wuhan25\n",
    "ReportInt(v, 'Wuhan: ')\n",
    "\n",
    "v = shanghai25\n",
    "ReportInt(v, 'Shanghai: ')\n",
    "\n",
    "v = beijing25\n",
    "ReportInt(v, 'Beijing: ')\n",
    "\n",
    "v = guangzhou25\n",
    "ReportInt(v, 'Guangzhou: ')\n",
    "\n",
    "\n",
    "print('Mar 4:======')\n",
    "v = wuhan4\n",
    "ReportInt(v, 'Wuhan: ')\n",
    "\n",
    "v = shanghai4\n",
    "ReportInt(v, 'Shanghai: ')\n",
    "\n",
    "v = beijing4\n",
    "ReportInt(v, 'Beijing: ')\n",
    "\n",
    "v = guangzhou4\n",
    "ReportInt(v, 'Guangzhou: ')\n",
    "\n",
    "\n",
    "print('Total inf:=====')\n",
    "v = np.array(city_cum)[:, nodes['武汉市']]*city_properties['武汉市']['pop']\n",
    "ReportInt(v, 'Wuhan Total Inf.: ')\n",
    "ReportInt(v*death_ratio, 'total death: ')\n",
    "\n",
    "v = np.array(city_cum)[:, nodes['黄冈市']]*city_properties['黄冈市']['pop']\n",
    "ReportInt(v, 'Huanggang Total Inf.: ')\n",
    "ReportInt(v*death_ratio, 'total death: ')\n",
    "\n",
    "v = np.array(city_cum)[:, nodes['重庆市']]*city_properties['重庆市']['pop']\n",
    "ReportInt(v, 'Chongqing Total Inf.: ')\n",
    "ReportInt(v*death_ratio, 'total death: ')\n",
    "\n",
    "v = np.array(city_cum)[:, nodes['上海市']]*city_properties['上海市']['pop']\n",
    "ReportInt(v, 'Shanghai Total Inf.: ')\n",
    "ReportInt(v*death_ratio, 'total death: ')"
   ]
  },
  {
   "cell_type": "markdown",
   "metadata": {},
   "source": [
    "### China total infection, confirmation"
   ]
  },
  {
   "cell_type": "code",
   "execution_count": 92,
   "metadata": {
    "ExecuteTime": {
     "end_time": "2020-03-16T04:38:55.519361Z",
     "start_time": "2020-03-16T04:38:55.323305Z"
    }
   },
   "outputs": [],
   "source": [
    "inf = np.median(np.sum(plotdata[:len(nodes), :, :], axis=0), axis=1)\n",
    "inflow = np.quantile(np.sum(plotdata[:len(nodes), :, :], axis=0), 0.025, axis=1)\n",
    "infhigh = np.quantile(np.sum(plotdata[:len(nodes), :, :], axis=0), 1-0.025, axis=1)\n",
    "\n",
    "conf = np.median(np.sum(plotdata[len(nodes):2*len(nodes), :, :], axis=0), axis=1)\n",
    "conflow = np.quantile(np.sum(plotdata[len(nodes):2*len(nodes), :, :], axis=0), 0.025, axis=1)\n",
    "confhigh = np.quantile(np.sum(plotdata[len(nodes):2*len(nodes), :, :], axis=0), 1-0.025, axis=1)\n",
    "\n",
    "allinf = np.median(np.sum(plotdata[:2*len(nodes), :, :], axis=0), axis=1)\n",
    "allinflow = np.quantile(np.sum(plotdata[:2*len(nodes), :, :], axis=0), 0.025, axis=1)\n",
    "allinfhigh = np.quantile(np.sum(plotdata[:2*len(nodes), :, :], axis=0), 1-0.025, axis=1)\n",
    "\n",
    "chinaplotdata = np.array([range(200), inf, inflow, infhigh, conf, \\\n",
    "          conflow, confhigh, allinf, allinflow, allinfhigh]).T\n",
    "chinaplotdata = chinaplotdata.tolist()\n",
    "chinaplotdata = [['day','infected', 'inf. low', 'inf. high', \\\n",
    " 'confirm', 'con. low', 'con. high', \\\n",
    " 'inf+con', 'i.c.low','i.c.high']] + chinaplotdata\n",
    "\n",
    "with open('./data/plot_china_early_slow.csv', 'w') as csvfile:\n",
    "    writer = csv.writer(csvfile)\n",
    "    writer.writerows(chinaplotdata)"
   ]
  },
  {
   "cell_type": "markdown",
   "metadata": {},
   "source": [
    "## Varying t0\n",
    "\n",
    "Show how death population change if we can act earlier."
   ]
  },
  {
   "cell_type": "code",
   "execution_count": 149,
   "metadata": {
    "ExecuteTime": {
     "end_time": "2020-03-15T01:09:28.987868Z",
     "start_time": "2020-03-15T01:08:08.925149Z"
    },
    "scrolled": true
   },
   "outputs": [
    {
     "name": "stdout",
     "output_type": "stream",
     "text": [
      "22.066666666666668"
     ]
    }
   ],
   "source": [
    "t0s=np.linspace(1,22,10)\n",
    "#t_i = 9.2#10#1/0.0134#6 #serial interval，参考SARS\n",
    "#t_l = 8.3#8.89 #一个病患潜伏期时间，参考SARS、MERS\n",
    "gamma = 0.03#flowing_ratio\n",
    "eta = 1\n",
    "t_m = 35\n",
    "timespan = np.linspace(0, 200, 1000)\n",
    "interval = 200 / 1000\n",
    "ls0 = np.zeros(len(nodes))\n",
    "js0 = np.zeros(len(nodes))\n",
    "ss0 = np.ones(len(nodes))\n",
    "ls0[nodes['武汉市']] = float(initial_latent)/float(city_properties['武汉市']['pop'])#1e-4\n",
    "js0[nodes['武汉市']] = float(first_cases)/float(city_properties['武汉市']['pop'])\n",
    "ss0[nodes['武汉市']] = 1-ls0[nodes['武汉市']]-js0[nodes['武汉市']]\n",
    "results_cum=[]\n",
    "results_death=[]\n",
    "for t_0 in t0s:\n",
    "    flushPrint(t_0)\n",
    "    cum_all=[]\n",
    "    cum_death=[]\n",
    "    for best_para in experiments:\n",
    "        fit_param = sorted([(vvv[1],i) for i,vvv in enumerate(best_para)])\n",
    "        itm = best_para[fit_param[0][1]]\n",
    "        r0 = itm[0][0][0].item()\n",
    "        initial_latent = itm[0][0][1].item()\n",
    "        alpha = itm[0][0][2].item()\n",
    "        t_i = itm[2][0]#10#1/0.0134#6 #serial interval，参考SARS\n",
    "        t_l = itm[2][1]#8.89 #一个病患潜伏期时间，参考SARS、MERS\n",
    "        gamma = itm[2][2]#0.03#flowing_ratio\n",
    "\n",
    "        result = odeint(diff, np.r_[ls0,js0,ss0], timespan, args = (r0, t_i, t_l, alpha, gamma, eta, \n",
    "                                                                 t_m, t_0, pij,True))\n",
    "        all_pop = np.zeros([result.shape[0]])\n",
    "        all_confirmed = np.zeros([result.shape[0]])\n",
    "        all_recovery = np.zeros([result.shape[0]])\n",
    "        for k,city in city_properties.items():\n",
    "            idx = nodes[k]\n",
    "            all_pop += (result[:, idx]+result[:, len(nodes)+idx]) * city['pop']\n",
    "            all_confirmed += (result[:, len(nodes)+idx]) * city['pop']\n",
    "            all_recovery += (1-result[:, len(nodes)+idx]-result[:,idx]-result[:,2*len(nodes)+idx]) * city['pop']\n",
    "        cum_all.append(np.max(all_recovery))\n",
    "        cum_death.append(np.max(all_recovery * death_ratio))\n",
    "        results_cum.append([t_0, np.max(all_recovery)])\n",
    "        results_death.append([t_0, np.max(all_recovery * death_ratio)])\n",
    "    #results_cum.append([t_0, np.mean(cum_all)])\n",
    "    #results_death.append([t_0, np.mean(cum_death)])"
   ]
  },
  {
   "cell_type": "code",
   "execution_count": 233,
   "metadata": {
    "ExecuteTime": {
     "end_time": "2020-03-15T03:35:37.213815Z",
     "start_time": "2020-03-15T03:35:37.182775Z"
    }
   },
   "outputs": [
    {
     "name": "stdout",
     "output_type": "stream",
     "text": [
      "slopes: [0.213, 0.212] (0.208-0.211-0.214-0.219)\n"
     ]
    }
   ],
   "source": [
    "from scipy import stats\n",
    "fitdata=np.array(results_death).reshape(10, -1, 2).transpose(1,0,2)\n",
    "slopes = []\n",
    "for i in range(10):\n",
    "    slope = stats.linregress(fitdata[i,:,0],np.log2(fitdata[i,:,1]))[0]\n",
    "    slopes.append(slope)\n",
    "Report(slopes, 'slopes: ', 3)"
   ]
  },
  {
   "cell_type": "markdown",
   "metadata": {},
   "source": [
    "## Relaxation\n",
    "\n",
    "Finding the safe relaxation date."
   ]
  },
  {
   "cell_type": "code",
   "execution_count": 62,
   "metadata": {
    "ExecuteTime": {
     "end_time": "2020-03-17T03:53:55.904054Z",
     "start_time": "2020-03-17T03:44:45.162780Z"
    }
   },
   "outputs": [],
   "source": [
    "t_0 = 22\n",
    "#t_i = 9.2#10#1/0.0134#6 #serial interval，参考SARS\n",
    "#t_l = 8.3#8.89 #一个病患潜伏期时间，参考SARS、MERS\n",
    "#gamma = 0.03#flowing_ratio\n",
    "eta = 1\n",
    "t_m = 35\n",
    "#relax = 88\n",
    "timespan = np.linspace(0, 400, 1000)\n",
    "interval = 400 / 1000\n",
    "ls0 = np.zeros(len(nodes))\n",
    "js0 = np.zeros(len(nodes))\n",
    "ss0 = np.ones(len(nodes))\n",
    "\n",
    "relaxx = []\n",
    "relax_confirmed = []\n",
    "for relax in range(80, 110):#(60, 90):#60-90\n",
    "    for best_para in experiments:\n",
    "        fit_param = sorted([(vvv[1],i) for i,vvv in enumerate(best_para)])\n",
    "        itm = best_para[fit_param[0][1]]\n",
    "        r0 = itm[0][0][0].item()\n",
    "        initial_latent = itm[0][0][1].item()\n",
    "        alpha = itm[0][0][2].item()\n",
    "        t_i = itm[2][0]#10#1/0.0134#6 #serial interval，参考SARS\n",
    "        t_l = itm[2][1]#8.89 #一个病患潜伏期时间，参考SARS、MERS\n",
    "        gamma = itm[2][2]#0.03#flowing_ratio\n",
    "        t_m, t_0, interQ = scenarios['early_slow']\n",
    "        \n",
    "        ls0[nodes['武汉市']] = float(initial_latent)/float(city_properties['武汉市']['pop'])#1e-4\n",
    "        js0[nodes['武汉市']] = float(first_cases)/float(city_properties['武汉市']['pop'])\n",
    "        ss0[nodes['武汉市']] = 1-ls0[nodes['武汉市']]-js0[nodes['武汉市']]\n",
    "        cum_inf_conf = np.zeros(len(nodes))\n",
    "\n",
    "        result = odeint(diff, np.r_[ls0,js0,ss0], timespan, args = (r0, t_i, t_l, alpha, gamma, eta, \n",
    "                                                                 t_m, t_0, pij,True,relax))\n",
    "        number = 0\n",
    "        all_pop = np.zeros([result.shape[0]])\n",
    "        all_confirmed = np.zeros([result.shape[0]])\n",
    "        all_recovery = np.zeros([result.shape[0]])            \n",
    "        for city,c in nodes.items():\n",
    "            rr = result[:,nodes[city]]*city_properties[city]['pop']\n",
    "            all_pop += (result[:, c]+result[:, len(nodes)+c]) * city_properties[city]['pop']\n",
    "            all_confirmed += (result[:, len(nodes)+c]) * city_properties[city]['pop']\n",
    "            #print(2*len(nodes)+c)\n",
    "            #print('idx',idx)\n",
    "            all_recovery += (1-result[:, len(nodes)+c]-result[:,c]-\n",
    "                             result[:,2*len(nodes)+c]) * city_properties[city]['pop']\n",
    "            bb = np.nonzero((rr<1)&(timespan>relax)&(timespan<250))\n",
    "            if len(bb[0])>0:\n",
    "                number += 1 #人数小于1的城市数\n",
    "        if number == len(nodes): #若所有城市都小于1，则存储当前日期以及确诊人数\n",
    "            relaxx.append(relax)\n",
    "            c = all_confirmed[int(relax / interval)]\n",
    "            relax_confirmed.append(c)"
   ]
  },
  {
   "cell_type": "code",
   "execution_count": 63,
   "metadata": {
    "ExecuteTime": {
     "end_time": "2020-03-17T04:33:07.740034Z",
     "start_time": "2020-03-17T04:33:07.735553Z"
    }
   },
   "outputs": [
    {
     "data": {
      "text/plain": [
       "88"
      ]
     },
     "execution_count": 63,
     "metadata": {},
     "output_type": "execute_result"
    }
   ],
   "source": [
    "min(relaxx)"
   ]
  },
  {
   "cell_type": "code",
   "execution_count": 64,
   "metadata": {
    "ExecuteTime": {
     "end_time": "2020-03-17T04:33:09.187596Z",
     "start_time": "2020-03-17T04:33:09.111250Z"
    }
   },
   "outputs": [
    {
     "data": {
      "image/png": "[encoded data removed]",
      "text/plain": [
       "<Figure size 432x288 with 1 Axes>"
      ]
     },
     "metadata": {
      "needs_background": "light"
     },
     "output_type": "display_data"
    }
   ],
   "source": [
    "plt.hist(relaxx)\n",
    "plt.show()"
   ]
  },
  {
   "cell_type": "code",
   "execution_count": 65,
   "metadata": {
    "ExecuteTime": {
     "end_time": "2020-03-17T04:33:14.019821Z",
     "start_time": "2020-03-17T04:33:14.012501Z"
    }
   },
   "outputs": [
    {
     "name": "stdout",
     "output_type": "stream",
     "text": [
      "94.0\n",
      "relaxation: [9119, 9105] (5804-8016-10318-12006)\n"
     ]
    }
   ],
   "source": [
    "#bools = np.array(relaxx) == min(relaxx)\n",
    "bools = np.array(relaxx) == np.quantile(relaxx, 0.05)\n",
    "relax_result = np.array(relax_confirmed)[bools]\n",
    "\n",
    "print(np.quantile(relaxx, 0.05))\n",
    "\n",
    "v=relax_result\n",
    "ReportInt(v, 'relaxation: ')"
   ]
  },
  {
   "cell_type": "code",
   "execution_count": 100,
   "metadata": {
    "ExecuteTime": {
     "end_time": "2020-03-13T05:57:07.364027Z",
     "start_time": "2020-03-13T05:57:06.314371Z"
    }
   },
   "outputs": [
    {
     "data": {
      "image/png": "[encoded data removed]",
      "text/plain": [
       "<Figure size 432x288 with 1 Axes>"
      ]
     },
     "metadata": {
      "needs_background": "light"
     },
     "output_type": "display_data"
    }
   ],
   "source": [
    "best_para=experiments[1]\n",
    "fit_param = sorted([(vvv[1],i) for i,vvv in enumerate(best_para)])\n",
    "itm = best_para[fit_param[0][1]]\n",
    "r0 = itm[0][0][0].item()\n",
    "initial_latent = itm[0][0][1].item()\n",
    "alpha = itm[0][0][2].item()\n",
    "\n",
    "result = odeint(diff, np.r_[ls0,js0,ss0], timespan, args = (r0, t_i, t_l, alpha, gamma, eta, \n",
    "                                                         t_m, t_0, pij,True,90)) #81\n",
    "number = 0\n",
    "rall = np.zeros(1000)\n",
    "for city,c in nodes.items():\n",
    "    rr = result[:,nodes[city]]*city_properties[city]['pop']\n",
    "    rall += rr\n",
    "    dd = np.abs(np.diff(rr))\n",
    "    bb = np.nonzero((rr<1)&(timespan>relax)&(timespan<400))\n",
    "    if len(bb[0])>0:\n",
    "        number += 1\n",
    "    plt.semilogy(timespan, rr)\n",
    "plt.plot(timespan, np.ones(len(timespan)))\n",
    "plt.show()"
   ]
  },
  {
   "cell_type": "code",
   "execution_count": 168,
   "metadata": {
    "ExecuteTime": {
     "end_time": "2020-03-13T06:52:09.039072Z",
     "start_time": "2020-03-13T06:52:03.647758Z"
    }
   },
   "outputs": [],
   "source": [
    "conf_alls = []\n",
    "timespan = np.linspace(0, 400, 1000)\n",
    "interval = 400 / 1000\n",
    "for best_para in experiments:\n",
    "    #best_para=experiments[1]\n",
    "    fit_param = sorted([(vvv[1],i) for i,vvv in enumerate(best_para)])\n",
    "    itm = best_para[fit_param[0][1]]\n",
    "    r0 = itm[0][0][0].item()\n",
    "    initial_latent = itm[0][0][1].item()\n",
    "    alpha = itm[0][0][2].item()\n",
    "    t_m, t_0, interQ = scenarios['baseline']\n",
    "    \n",
    "    ls0 = np.zeros(len(nodes))\n",
    "    js0 = np.zeros(len(nodes))\n",
    "    ss0 = np.ones(len(nodes))\n",
    "    ls0[nodes['武汉市']] = float(initial_latent)/float(city_properties['武汉市']['pop'])#1e-4\n",
    "    js0[nodes['武汉市']] = float(first_cases)/float(city_properties['武汉市']['pop'])\n",
    "    ss0[nodes['武汉市']] = 1-ls0[nodes['武汉市']]-js0[nodes['武汉市']]\n",
    "\n",
    "    result = odeint(diff, np.r_[ls0,js0,ss0], timespan, args = (r0, t_i, t_l, alpha, gamma, eta, \n",
    "                                                             t_m, t_0, pij,True,95)) #81\n",
    "    number = 0\n",
    "    rall = np.zeros(1000)\n",
    "    for city,c in nodes.items():\n",
    "        rr = result[:,nodes[city]]*city_properties[city]['pop']\n",
    "        rall += rr\n",
    "        dd = np.abs(np.diff(rr))\n",
    "        bb = np.nonzero((rr<1)&(timespan>relax)&(timespan<400))\n",
    "        if len(bb[0])>0:\n",
    "            number += 1\n",
    "    conf_alls.append(rall)"
   ]
  },
  {
   "cell_type": "code",
   "execution_count": 169,
   "metadata": {
    "ExecuteTime": {
     "end_time": "2020-03-13T06:52:09.200869Z",
     "start_time": "2020-03-13T06:52:09.040302Z"
    }
   },
   "outputs": [],
   "source": [
    "median90=[np.median(confs) for confs in np.array(conf_alls).T]\n",
    "low90=[np.quantile(confs,0.025) for confs in np.array(conf_alls).T]\n",
    "high90=[np.quantile(confs,1-0.025) for confs in np.array(conf_alls).T]"
   ]
  },
  {
   "cell_type": "code",
   "execution_count": 170,
   "metadata": {
    "ExecuteTime": {
     "end_time": "2020-03-13T06:52:09.332456Z",
     "start_time": "2020-03-13T06:52:09.201883Z"
    }
   },
   "outputs": [
    {
     "data": {
      "image/png": "[encoded data removed]",
      "text/plain": [
       "<Figure size 432x288 with 1 Axes>"
      ]
     },
     "metadata": {
      "needs_background": "light"
     },
     "output_type": "display_data"
    }
   ],
   "source": [
    "plt.plot(timespan, median90)\n",
    "plt.fill_between(timespan, low90, high90, alpha=0.2, facecolor='#000000')\n",
    "#plt.plot(timespan, low90)\n",
    "#plt.plot(timespan, high90)\n",
    "plt.plot(timespan, np.ones(len(timespan)))\n",
    "plt.semilogy()\n",
    "plt.show()"
   ]
  },
  {
   "cell_type": "code",
   "execution_count": 171,
   "metadata": {
    "ExecuteTime": {
     "end_time": "2020-03-13T06:52:11.513218Z",
     "start_time": "2020-03-13T06:52:11.505451Z"
    }
   },
   "outputs": [],
   "source": [
    "import csv\n",
    "\n",
    "with open('90days.csv','w') as csvfile:\n",
    "    writer = csv.writer(csvfile)\n",
    "    writer.writerows(np.array([median90,low90,high90]).T)\n"
   ]
  }
 ],
 "metadata": {
  "kernelspec": {
   "display_name": "Python 3",
   "language": "python",
   "name": "python3"
  },
  "language_info": {
   "codemirror_mode": {
    "name": "ipython",
    "version": 3
   },
   "file_extension": ".py",
   "mimetype": "text/x-python",
   "name": "python",
   "nbconvert_exporter": "python",
   "pygments_lexer": "ipython3",
   "version": "3.7.5"
  },
  "toc": {
   "base_numbering": 1,
   "nav_menu": {},
   "number_sections": true,
   "sideBar": true,
   "skip_h1_title": false,
   "title_cell": "Table of Contents",
   "title_sidebar": "Contents",
   "toc_cell": false,
   "toc_position": {
    "height": "calc(100% - 180px)",
    "left": "10px",
    "top": "150px",
    "width": "262.9891357421875px"
   },
   "toc_section_display": true,
   "toc_window_display": true
  }
 },
 "nbformat": 4,
 "nbformat_minor": 2
}
